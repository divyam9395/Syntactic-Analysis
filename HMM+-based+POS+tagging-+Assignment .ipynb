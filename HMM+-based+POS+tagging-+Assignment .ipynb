{
 "cells": [
  {
   "cell_type": "markdown",
   "metadata": {},
   "source": [
    "## POS tagging using modified Viterbi Algorithm:\n",
    "#### By Divyam Kumar"
   ]
  },
  {
   "cell_type": "markdown",
   "metadata": {},
   "source": [
    "### Data Preparation"
   ]
  },
  {
   "cell_type": "code",
   "execution_count": 1,
   "metadata": {},
   "outputs": [],
   "source": [
    "#Importing libraries\n",
    "import nltk, re, pprint\n",
    "import numpy as np\n",
    "import pandas as pd\n",
    "import requests\n",
    "import matplotlib.pyplot as plt\n",
    "import seaborn as sns\n",
    "import pprint, time\n",
    "import random\n",
    "from sklearn.model_selection import train_test_split\n",
    "from nltk.tokenize import word_tokenize\n",
    "import codecs"
   ]
  },
  {
   "cell_type": "code",
   "execution_count": 2,
   "metadata": {},
   "outputs": [
    {
     "name": "stderr",
     "output_type": "stream",
     "text": [
      "[nltk_data] Downloading package treebank to C:\\Users\\Divyam\n",
      "[nltk_data]     ji\\AppData\\Roaming\\nltk_data...\n",
      "[nltk_data]   Package treebank is already up-to-date!\n",
      "[nltk_data] Downloading package universal_tagset to C:\\Users\\Divyam\n",
      "[nltk_data]     ji\\AppData\\Roaming\\nltk_data...\n",
      "[nltk_data]   Package universal_tagset is already up-to-date!\n"
     ]
    },
    {
     "data": {
      "text/plain": [
       "True"
      ]
     },
     "execution_count": 2,
     "metadata": {},
     "output_type": "execute_result"
    }
   ],
   "source": [
    "nltk.download('treebank')\n",
    "nltk.download('universal_tagset')"
   ]
  },
  {
   "cell_type": "code",
   "execution_count": 3,
   "metadata": {},
   "outputs": [],
   "source": [
    "# reading the Treebank tagged sentences\n",
    "nltk_data = list(nltk.corpus.treebank.tagged_sents(tagset='universal'))"
   ]
  },
  {
   "cell_type": "code",
   "execution_count": 4,
   "metadata": {},
   "outputs": [
    {
     "data": {
      "text/plain": [
       "[[('Pierre', 'NOUN'),\n",
       "  ('Vinken', 'NOUN'),\n",
       "  (',', '.'),\n",
       "  ('61', 'NUM'),\n",
       "  ('years', 'NOUN'),\n",
       "  ('old', 'ADJ'),\n",
       "  (',', '.'),\n",
       "  ('will', 'VERB'),\n",
       "  ('join', 'VERB'),\n",
       "  ('the', 'DET'),\n",
       "  ('board', 'NOUN'),\n",
       "  ('as', 'ADP'),\n",
       "  ('a', 'DET'),\n",
       "  ('nonexecutive', 'ADJ'),\n",
       "  ('director', 'NOUN'),\n",
       "  ('Nov.', 'NOUN'),\n",
       "  ('29', 'NUM'),\n",
       "  ('.', '.')],\n",
       " [('Mr.', 'NOUN'),\n",
       "  ('Vinken', 'NOUN'),\n",
       "  ('is', 'VERB'),\n",
       "  ('chairman', 'NOUN'),\n",
       "  ('of', 'ADP'),\n",
       "  ('Elsevier', 'NOUN'),\n",
       "  ('N.V.', 'NOUN'),\n",
       "  (',', '.'),\n",
       "  ('the', 'DET'),\n",
       "  ('Dutch', 'NOUN'),\n",
       "  ('publishing', 'VERB'),\n",
       "  ('group', 'NOUN'),\n",
       "  ('.', '.')],\n",
       " [('Rudolph', 'NOUN'),\n",
       "  ('Agnew', 'NOUN'),\n",
       "  (',', '.'),\n",
       "  ('55', 'NUM'),\n",
       "  ('years', 'NOUN'),\n",
       "  ('old', 'ADJ'),\n",
       "  ('and', 'CONJ'),\n",
       "  ('former', 'ADJ'),\n",
       "  ('chairman', 'NOUN'),\n",
       "  ('of', 'ADP'),\n",
       "  ('Consolidated', 'NOUN'),\n",
       "  ('Gold', 'NOUN'),\n",
       "  ('Fields', 'NOUN'),\n",
       "  ('PLC', 'NOUN'),\n",
       "  (',', '.'),\n",
       "  ('was', 'VERB'),\n",
       "  ('named', 'VERB'),\n",
       "  ('*-1', 'X'),\n",
       "  ('a', 'DET'),\n",
       "  ('nonexecutive', 'ADJ'),\n",
       "  ('director', 'NOUN'),\n",
       "  ('of', 'ADP'),\n",
       "  ('this', 'DET'),\n",
       "  ('British', 'ADJ'),\n",
       "  ('industrial', 'ADJ'),\n",
       "  ('conglomerate', 'NOUN'),\n",
       "  ('.', '.')],\n",
       " [('A', 'DET'),\n",
       "  ('form', 'NOUN'),\n",
       "  ('of', 'ADP'),\n",
       "  ('asbestos', 'NOUN'),\n",
       "  ('once', 'ADV'),\n",
       "  ('used', 'VERB'),\n",
       "  ('*', 'X'),\n",
       "  ('*', 'X'),\n",
       "  ('to', 'PRT'),\n",
       "  ('make', 'VERB'),\n",
       "  ('Kent', 'NOUN'),\n",
       "  ('cigarette', 'NOUN'),\n",
       "  ('filters', 'NOUN'),\n",
       "  ('has', 'VERB'),\n",
       "  ('caused', 'VERB'),\n",
       "  ('a', 'DET'),\n",
       "  ('high', 'ADJ'),\n",
       "  ('percentage', 'NOUN'),\n",
       "  ('of', 'ADP'),\n",
       "  ('cancer', 'NOUN'),\n",
       "  ('deaths', 'NOUN'),\n",
       "  ('among', 'ADP'),\n",
       "  ('a', 'DET'),\n",
       "  ('group', 'NOUN'),\n",
       "  ('of', 'ADP'),\n",
       "  ('workers', 'NOUN'),\n",
       "  ('exposed', 'VERB'),\n",
       "  ('*', 'X'),\n",
       "  ('to', 'PRT'),\n",
       "  ('it', 'PRON'),\n",
       "  ('more', 'ADV'),\n",
       "  ('than', 'ADP'),\n",
       "  ('30', 'NUM'),\n",
       "  ('years', 'NOUN'),\n",
       "  ('ago', 'ADP'),\n",
       "  (',', '.'),\n",
       "  ('researchers', 'NOUN'),\n",
       "  ('reported', 'VERB'),\n",
       "  ('0', 'X'),\n",
       "  ('*T*-1', 'X'),\n",
       "  ('.', '.')],\n",
       " [('The', 'DET'),\n",
       "  ('asbestos', 'NOUN'),\n",
       "  ('fiber', 'NOUN'),\n",
       "  (',', '.'),\n",
       "  ('crocidolite', 'NOUN'),\n",
       "  (',', '.'),\n",
       "  ('is', 'VERB'),\n",
       "  ('unusually', 'ADV'),\n",
       "  ('resilient', 'ADJ'),\n",
       "  ('once', 'ADP'),\n",
       "  ('it', 'PRON'),\n",
       "  ('enters', 'VERB'),\n",
       "  ('the', 'DET'),\n",
       "  ('lungs', 'NOUN'),\n",
       "  (',', '.'),\n",
       "  ('with', 'ADP'),\n",
       "  ('even', 'ADV'),\n",
       "  ('brief', 'ADJ'),\n",
       "  ('exposures', 'NOUN'),\n",
       "  ('to', 'PRT'),\n",
       "  ('it', 'PRON'),\n",
       "  ('causing', 'VERB'),\n",
       "  ('symptoms', 'NOUN'),\n",
       "  ('that', 'DET'),\n",
       "  ('*T*-1', 'X'),\n",
       "  ('show', 'VERB'),\n",
       "  ('up', 'PRT'),\n",
       "  ('decades', 'NOUN'),\n",
       "  ('later', 'ADJ'),\n",
       "  (',', '.'),\n",
       "  ('researchers', 'NOUN'),\n",
       "  ('said', 'VERB'),\n",
       "  ('0', 'X'),\n",
       "  ('*T*-2', 'X'),\n",
       "  ('.', '.')]]"
      ]
     },
     "execution_count": 4,
     "metadata": {},
     "output_type": "execute_result"
    }
   ],
   "source": [
    "#First five sentences in te dataset\n",
    "nltk_data[:5]"
   ]
  },
  {
   "cell_type": "code",
   "execution_count": 5,
   "metadata": {},
   "outputs": [
    {
     "name": "stdout",
     "output_type": "stream",
     "text": [
      "3718\n",
      "196\n"
     ]
    }
   ],
   "source": [
    "# Splitting the data set into test and train\n",
    "# set the random seed\n",
    "random.seed(1234)\n",
    "\n",
    "# Divide the data into training and test sets\n",
    "train_set, test_set = train_test_split(nltk_data,train_size=0.95)\n",
    "\n",
    "# Get the length of training and test sets\n",
    "print(len(train_set))\n",
    "print(len(test_set))"
   ]
  },
  {
   "cell_type": "code",
   "execution_count": 6,
   "metadata": {},
   "outputs": [
    {
     "data": {
      "text/plain": [
       "95587"
      ]
     },
     "execution_count": 6,
     "metadata": {},
     "output_type": "execute_result"
    }
   ],
   "source": [
    "# Getting list of tagged words in training set\n",
    "train_tagged_words = [tup for sent in train_set for tup in sent]\n",
    "# length of the total tagged words in training set\n",
    "len(train_tagged_words)"
   ]
  },
  {
   "cell_type": "code",
   "execution_count": 7,
   "metadata": {},
   "outputs": [
    {
     "data": {
      "text/plain": [
       "['Pakistan',\n",
       " \"'s\",\n",
       " 'Bhutto',\n",
       " 'defeated',\n",
       " 'the',\n",
       " 'first',\n",
       " 'no-confidence',\n",
       " 'motion',\n",
       " 'in',\n",
       " 'the']"
      ]
     },
     "execution_count": 7,
     "metadata": {},
     "output_type": "execute_result"
    }
   ],
   "source": [
    "# View the first 10 tokens/words in the training set\n",
    "tokens = [pair[0] for pair in train_tagged_words]\n",
    "tokens[:10]"
   ]
  },
  {
   "cell_type": "code",
   "execution_count": 8,
   "metadata": {},
   "outputs": [
    {
     "name": "stdout",
     "output_type": "stream",
     "text": [
      "12081\n"
     ]
    }
   ],
   "source": [
    "# Get the total unique words in the training set\n",
    "V = set(tokens)\n",
    "print(len(V))"
   ]
  },
  {
   "cell_type": "code",
   "execution_count": 9,
   "metadata": {},
   "outputs": [
    {
     "name": "stdout",
     "output_type": "stream",
     "text": [
      "12\n",
      "{'CONJ', 'PRON', 'PRT', 'ADV', 'DET', 'ADP', 'X', 'NUM', 'NOUN', 'ADJ', '.', 'VERB'}\n"
     ]
    }
   ],
   "source": [
    "# number of pos tags in the training corpus\n",
    "T = set([pair[1] for pair in train_tagged_words])\n",
    "print(len(T))\n",
    "print(T)"
   ]
  },
  {
   "cell_type": "markdown",
   "metadata": {},
   "source": [
    "There are 12 tags which are part of universal tagset"
   ]
  },
  {
   "cell_type": "markdown",
   "metadata": {},
   "source": [
    "### Build the vanilla Viterbi based POS tagger"
   ]
  },
  {
   "cell_type": "code",
   "execution_count": 10,
   "metadata": {},
   "outputs": [],
   "source": [
    "# Create numpy array of no of pos tags by total vocabulary\n",
    "t = len(T)\n",
    "v = len(V)\n",
    "w_given_t = np.zeros((t, v))"
   ]
  },
  {
   "cell_type": "code",
   "execution_count": 11,
   "metadata": {},
   "outputs": [],
   "source": [
    "# compute word given tag: Emission Probability\n",
    "\n",
    "def word_given_tag(word, tag, train_bag = train_tagged_words):\n",
    "    tag_list = [pair for pair in train_bag if pair[1]==tag]\n",
    "    count_tag = len(tag_list)\n",
    "    w_given_tag_list = [pair[0] for pair in tag_list if pair[0]==word]\n",
    "    count_w_given_tag = len(w_given_tag_list)\n",
    "    \n",
    "    return (count_w_given_tag, count_tag)"
   ]
  },
  {
   "cell_type": "code",
   "execution_count": 12,
   "metadata": {},
   "outputs": [],
   "source": [
    "# compute tag given tag: tag2(t2) given tag1 (t1), i.e. Transition Probability\n",
    "\n",
    "def t2_given_t1(t2, t1, train_bag = train_tagged_words):\n",
    "    tags = [pair[1] for pair in train_bag]\n",
    "    count_t1 = len([t for t in tags if t==t1])\n",
    "    count_t2_t1 = 0\n",
    "    for index in range(len(tags)-1):\n",
    "        if tags[index]==t1 and tags[index+1] == t2:\n",
    "            count_t2_t1 += 1\n",
    "    return (count_t2_t1, count_t1)"
   ]
  },
  {
   "cell_type": "code",
   "execution_count": 13,
   "metadata": {},
   "outputs": [],
   "source": [
    "# creating t x t (pos tags x pos tags)transition matrix of tags\n",
    "# each column is t2, each row is t1\n",
    "# thus M(i, j) represents P(tj given ti)\n",
    "\n",
    "tags_matrix = np.zeros((len(T), len(T)), dtype='float32')\n",
    "for i, t1 in enumerate(list(T)):\n",
    "    for j, t2 in enumerate(list(T)): \n",
    "        tags_matrix[i, j] = t2_given_t1(t2, t1)[0]/t2_given_t1(t2, t1)[1]"
   ]
  },
  {
   "cell_type": "code",
   "execution_count": 14,
   "metadata": {
    "scrolled": true
   },
   "outputs": [
    {
     "data": {
      "text/plain": [
       "array([[0.00000000e+00, 5.91523051e-02, 4.65766201e-03, 5.58919422e-02,\n",
       "        1.16907313e-01, 5.35631105e-02, 7.45225884e-03, 4.28504907e-02,\n",
       "        3.45132738e-01, 1.17838845e-01, 3.63297611e-02, 1.60223573e-01],\n",
       "       [5.40331937e-03, 6.94712484e-03, 1.19644925e-02, 3.43496725e-02,\n",
       "        9.64878406e-03, 2.27711312e-02, 9.37861800e-02, 7.33307609e-03,\n",
       "        2.09571600e-01, 7.44886175e-02, 3.97529900e-02, 4.83983010e-01],\n",
       "       [2.29432969e-03, 1.80268772e-02, 1.96656841e-03, 9.83284134e-03,\n",
       "        9.93117020e-02, 2.09767297e-02, 1.31104551e-02, 5.57194352e-02,\n",
       "        2.46804327e-01, 8.58734846e-02, 4.32645045e-02, 4.02818739e-01],\n",
       "       [6.27269736e-03, 1.55166723e-02, 1.32056782e-02, 7.95642138e-02,\n",
       "        6.99900985e-02, 1.18851103e-01, 2.27797944e-02, 3.13634872e-02,\n",
       "        3.30141969e-02, 1.29415646e-01, 1.37339056e-01, 3.42687368e-01],\n",
       "       [4.83910000e-04, 3.62932496e-03, 2.41955000e-04, 1.27026374e-02,\n",
       "        5.80692012e-03, 8.95233452e-03, 4.54875380e-02, 2.21388824e-02,\n",
       "        6.39849961e-01, 2.04330996e-01, 1.77836921e-02, 3.85918207e-02],\n",
       "       [8.56898027e-04, 6.87660649e-02, 1.39245926e-03, 1.40317054e-02,\n",
       "        3.23371887e-01, 1.66023988e-02, 3.52399312e-02, 6.28748909e-02,\n",
       "        3.21336746e-01, 1.06790915e-01, 4.03813198e-02, 8.35475605e-03],\n",
       "       [1.03125498e-02, 5.45771867e-02, 1.83722034e-01, 2.47501191e-02,\n",
       "        5.42598777e-02, 1.45327628e-01, 7.48849735e-02, 2.69712834e-03,\n",
       "        6.18752986e-02, 1.71346981e-02, 1.65952727e-01, 2.04505786e-01],\n",
       "       [1.39673110e-02, 1.48588407e-03, 2.55572069e-02, 2.97176815e-03,\n",
       "        3.26894503e-03, 3.53640430e-02, 2.15156019e-01, 1.87518567e-01,\n",
       "        3.47994059e-01, 3.29866260e-02, 1.15898959e-01, 1.78306084e-02],\n",
       "       [4.26798090e-02, 4.92880633e-03, 4.41401973e-02, 1.71595477e-02,\n",
       "        1.30339544e-02, 1.75173417e-01, 2.88061332e-02, 9.30996705e-03,\n",
       "        2.64841169e-01, 1.20847020e-02, 2.40051121e-01, 1.47791162e-01],\n",
       "       [1.66255143e-02, 6.58436213e-04, 1.06995888e-02, 4.77366243e-03,\n",
       "        4.60905349e-03, 7.75308609e-02, 2.12345682e-02, 2.15637852e-02,\n",
       "        6.98765457e-01, 6.66666701e-02, 6.51851818e-02, 1.16872424e-02],\n",
       "       [5.75300679e-02, 6.51588589e-02, 2.51301378e-03, 5.32220416e-02,\n",
       "        1.73756957e-01, 9.13660005e-02, 2.71943994e-02, 8.07754472e-02,\n",
       "        2.23478734e-01, 4.44264933e-02, 9.19045061e-02, 8.85837376e-02],\n",
       "       [5.58485882e-03, 3.55259068e-02, 3.12596969e-02, 8.18336979e-02,\n",
       "        1.34502023e-01, 9.20726061e-02, 2.18197331e-01, 2.21067332e-02,\n",
       "        1.09602854e-01, 6.50791153e-02, 3.55259068e-02, 1.68709278e-01]],\n",
       "      dtype=float32)"
      ]
     },
     "execution_count": 14,
     "metadata": {},
     "output_type": "execute_result"
    }
   ],
   "source": [
    "tags_matrix"
   ]
  },
  {
   "cell_type": "code",
   "execution_count": 15,
   "metadata": {},
   "outputs": [
    {
     "data": {
      "text/html": [
       "<div>\n",
       "<style scoped>\n",
       "    .dataframe tbody tr th:only-of-type {\n",
       "        vertical-align: middle;\n",
       "    }\n",
       "\n",
       "    .dataframe tbody tr th {\n",
       "        vertical-align: top;\n",
       "    }\n",
       "\n",
       "    .dataframe thead th {\n",
       "        text-align: right;\n",
       "    }\n",
       "</style>\n",
       "<table border=\"1\" class=\"dataframe\">\n",
       "  <thead>\n",
       "    <tr style=\"text-align: right;\">\n",
       "      <th></th>\n",
       "      <th>CONJ</th>\n",
       "      <th>PRON</th>\n",
       "      <th>PRT</th>\n",
       "      <th>ADV</th>\n",
       "      <th>DET</th>\n",
       "      <th>ADP</th>\n",
       "      <th>X</th>\n",
       "      <th>NUM</th>\n",
       "      <th>NOUN</th>\n",
       "      <th>ADJ</th>\n",
       "      <th>.</th>\n",
       "      <th>VERB</th>\n",
       "    </tr>\n",
       "  </thead>\n",
       "  <tbody>\n",
       "    <tr>\n",
       "      <th>CONJ</th>\n",
       "      <td>0.000000</td>\n",
       "      <td>0.059152</td>\n",
       "      <td>0.004658</td>\n",
       "      <td>0.055892</td>\n",
       "      <td>0.116907</td>\n",
       "      <td>0.053563</td>\n",
       "      <td>0.007452</td>\n",
       "      <td>0.042850</td>\n",
       "      <td>0.345133</td>\n",
       "      <td>0.117839</td>\n",
       "      <td>0.036330</td>\n",
       "      <td>0.160224</td>\n",
       "    </tr>\n",
       "    <tr>\n",
       "      <th>PRON</th>\n",
       "      <td>0.005403</td>\n",
       "      <td>0.006947</td>\n",
       "      <td>0.011964</td>\n",
       "      <td>0.034350</td>\n",
       "      <td>0.009649</td>\n",
       "      <td>0.022771</td>\n",
       "      <td>0.093786</td>\n",
       "      <td>0.007333</td>\n",
       "      <td>0.209572</td>\n",
       "      <td>0.074489</td>\n",
       "      <td>0.039753</td>\n",
       "      <td>0.483983</td>\n",
       "    </tr>\n",
       "    <tr>\n",
       "      <th>PRT</th>\n",
       "      <td>0.002294</td>\n",
       "      <td>0.018027</td>\n",
       "      <td>0.001967</td>\n",
       "      <td>0.009833</td>\n",
       "      <td>0.099312</td>\n",
       "      <td>0.020977</td>\n",
       "      <td>0.013110</td>\n",
       "      <td>0.055719</td>\n",
       "      <td>0.246804</td>\n",
       "      <td>0.085873</td>\n",
       "      <td>0.043265</td>\n",
       "      <td>0.402819</td>\n",
       "    </tr>\n",
       "    <tr>\n",
       "      <th>ADV</th>\n",
       "      <td>0.006273</td>\n",
       "      <td>0.015517</td>\n",
       "      <td>0.013206</td>\n",
       "      <td>0.079564</td>\n",
       "      <td>0.069990</td>\n",
       "      <td>0.118851</td>\n",
       "      <td>0.022780</td>\n",
       "      <td>0.031363</td>\n",
       "      <td>0.033014</td>\n",
       "      <td>0.129416</td>\n",
       "      <td>0.137339</td>\n",
       "      <td>0.342687</td>\n",
       "    </tr>\n",
       "    <tr>\n",
       "      <th>DET</th>\n",
       "      <td>0.000484</td>\n",
       "      <td>0.003629</td>\n",
       "      <td>0.000242</td>\n",
       "      <td>0.012703</td>\n",
       "      <td>0.005807</td>\n",
       "      <td>0.008952</td>\n",
       "      <td>0.045488</td>\n",
       "      <td>0.022139</td>\n",
       "      <td>0.639850</td>\n",
       "      <td>0.204331</td>\n",
       "      <td>0.017784</td>\n",
       "      <td>0.038592</td>\n",
       "    </tr>\n",
       "    <tr>\n",
       "      <th>ADP</th>\n",
       "      <td>0.000857</td>\n",
       "      <td>0.068766</td>\n",
       "      <td>0.001392</td>\n",
       "      <td>0.014032</td>\n",
       "      <td>0.323372</td>\n",
       "      <td>0.016602</td>\n",
       "      <td>0.035240</td>\n",
       "      <td>0.062875</td>\n",
       "      <td>0.321337</td>\n",
       "      <td>0.106791</td>\n",
       "      <td>0.040381</td>\n",
       "      <td>0.008355</td>\n",
       "    </tr>\n",
       "    <tr>\n",
       "      <th>X</th>\n",
       "      <td>0.010313</td>\n",
       "      <td>0.054577</td>\n",
       "      <td>0.183722</td>\n",
       "      <td>0.024750</td>\n",
       "      <td>0.054260</td>\n",
       "      <td>0.145328</td>\n",
       "      <td>0.074885</td>\n",
       "      <td>0.002697</td>\n",
       "      <td>0.061875</td>\n",
       "      <td>0.017135</td>\n",
       "      <td>0.165953</td>\n",
       "      <td>0.204506</td>\n",
       "    </tr>\n",
       "    <tr>\n",
       "      <th>NUM</th>\n",
       "      <td>0.013967</td>\n",
       "      <td>0.001486</td>\n",
       "      <td>0.025557</td>\n",
       "      <td>0.002972</td>\n",
       "      <td>0.003269</td>\n",
       "      <td>0.035364</td>\n",
       "      <td>0.215156</td>\n",
       "      <td>0.187519</td>\n",
       "      <td>0.347994</td>\n",
       "      <td>0.032987</td>\n",
       "      <td>0.115899</td>\n",
       "      <td>0.017831</td>\n",
       "    </tr>\n",
       "    <tr>\n",
       "      <th>NOUN</th>\n",
       "      <td>0.042680</td>\n",
       "      <td>0.004929</td>\n",
       "      <td>0.044140</td>\n",
       "      <td>0.017160</td>\n",
       "      <td>0.013034</td>\n",
       "      <td>0.175173</td>\n",
       "      <td>0.028806</td>\n",
       "      <td>0.009310</td>\n",
       "      <td>0.264841</td>\n",
       "      <td>0.012085</td>\n",
       "      <td>0.240051</td>\n",
       "      <td>0.147791</td>\n",
       "    </tr>\n",
       "    <tr>\n",
       "      <th>ADJ</th>\n",
       "      <td>0.016626</td>\n",
       "      <td>0.000658</td>\n",
       "      <td>0.010700</td>\n",
       "      <td>0.004774</td>\n",
       "      <td>0.004609</td>\n",
       "      <td>0.077531</td>\n",
       "      <td>0.021235</td>\n",
       "      <td>0.021564</td>\n",
       "      <td>0.698765</td>\n",
       "      <td>0.066667</td>\n",
       "      <td>0.065185</td>\n",
       "      <td>0.011687</td>\n",
       "    </tr>\n",
       "    <tr>\n",
       "      <th>.</th>\n",
       "      <td>0.057530</td>\n",
       "      <td>0.065159</td>\n",
       "      <td>0.002513</td>\n",
       "      <td>0.053222</td>\n",
       "      <td>0.173757</td>\n",
       "      <td>0.091366</td>\n",
       "      <td>0.027194</td>\n",
       "      <td>0.080775</td>\n",
       "      <td>0.223479</td>\n",
       "      <td>0.044426</td>\n",
       "      <td>0.091905</td>\n",
       "      <td>0.088584</td>\n",
       "    </tr>\n",
       "    <tr>\n",
       "      <th>VERB</th>\n",
       "      <td>0.005585</td>\n",
       "      <td>0.035526</td>\n",
       "      <td>0.031260</td>\n",
       "      <td>0.081834</td>\n",
       "      <td>0.134502</td>\n",
       "      <td>0.092073</td>\n",
       "      <td>0.218197</td>\n",
       "      <td>0.022107</td>\n",
       "      <td>0.109603</td>\n",
       "      <td>0.065079</td>\n",
       "      <td>0.035526</td>\n",
       "      <td>0.168709</td>\n",
       "    </tr>\n",
       "  </tbody>\n",
       "</table>\n",
       "</div>"
      ],
      "text/plain": [
       "          CONJ      PRON       PRT       ADV       DET       ADP         X  \\\n",
       "CONJ  0.000000  0.059152  0.004658  0.055892  0.116907  0.053563  0.007452   \n",
       "PRON  0.005403  0.006947  0.011964  0.034350  0.009649  0.022771  0.093786   \n",
       "PRT   0.002294  0.018027  0.001967  0.009833  0.099312  0.020977  0.013110   \n",
       "ADV   0.006273  0.015517  0.013206  0.079564  0.069990  0.118851  0.022780   \n",
       "DET   0.000484  0.003629  0.000242  0.012703  0.005807  0.008952  0.045488   \n",
       "ADP   0.000857  0.068766  0.001392  0.014032  0.323372  0.016602  0.035240   \n",
       "X     0.010313  0.054577  0.183722  0.024750  0.054260  0.145328  0.074885   \n",
       "NUM   0.013967  0.001486  0.025557  0.002972  0.003269  0.035364  0.215156   \n",
       "NOUN  0.042680  0.004929  0.044140  0.017160  0.013034  0.175173  0.028806   \n",
       "ADJ   0.016626  0.000658  0.010700  0.004774  0.004609  0.077531  0.021235   \n",
       ".     0.057530  0.065159  0.002513  0.053222  0.173757  0.091366  0.027194   \n",
       "VERB  0.005585  0.035526  0.031260  0.081834  0.134502  0.092073  0.218197   \n",
       "\n",
       "           NUM      NOUN       ADJ         .      VERB  \n",
       "CONJ  0.042850  0.345133  0.117839  0.036330  0.160224  \n",
       "PRON  0.007333  0.209572  0.074489  0.039753  0.483983  \n",
       "PRT   0.055719  0.246804  0.085873  0.043265  0.402819  \n",
       "ADV   0.031363  0.033014  0.129416  0.137339  0.342687  \n",
       "DET   0.022139  0.639850  0.204331  0.017784  0.038592  \n",
       "ADP   0.062875  0.321337  0.106791  0.040381  0.008355  \n",
       "X     0.002697  0.061875  0.017135  0.165953  0.204506  \n",
       "NUM   0.187519  0.347994  0.032987  0.115899  0.017831  \n",
       "NOUN  0.009310  0.264841  0.012085  0.240051  0.147791  \n",
       "ADJ   0.021564  0.698765  0.066667  0.065185  0.011687  \n",
       ".     0.080775  0.223479  0.044426  0.091905  0.088584  \n",
       "VERB  0.022107  0.109603  0.065079  0.035526  0.168709  "
      ]
     },
     "execution_count": 15,
     "metadata": {},
     "output_type": "execute_result"
    }
   ],
   "source": [
    "# convert the matrix to a df for better readability\n",
    "tags_df = pd.DataFrame(tags_matrix, columns = list(T), index=list(T))\n",
    "tags_df"
   ]
  },
  {
   "cell_type": "code",
   "execution_count": 16,
   "metadata": {},
   "outputs": [
    {
     "data": {
      "image/png": "[encoded data removed]",
      "text/plain": [
       "<Figure size 1296x864 with 2 Axes>"
      ]
     },
     "metadata": {
      "needs_background": "light"
     },
     "output_type": "display_data"
    }
   ],
   "source": [
    "# heatmap of tags matrix\n",
    "# T(i, j) indicates P(tag j given tag i)\n",
    "plt.figure(figsize=(18, 12))\n",
    "sns.heatmap(tags_df)\n",
    "plt.show()"
   ]
  },
  {
   "cell_type": "code",
   "execution_count": 17,
   "metadata": {},
   "outputs": [
    {
     "data": {
      "image/png": "[encoded data removed]",
      "text/plain": [
       "<Figure size 1296x864 with 2 Axes>"
      ]
     },
     "metadata": {
      "needs_background": "light"
     },
     "output_type": "display_data"
    }
   ],
   "source": [
    "# frequent tags\n",
    "# filter the df to get P(t2, t1) > 0.5\n",
    "tags_frequent = tags_df[tags_df>0.5]\n",
    "plt.figure(figsize=(18, 12))\n",
    "sns.heatmap(tags_frequent)\n",
    "plt.show()"
   ]
  },
  {
   "cell_type": "markdown",
   "metadata": {},
   "source": [
    "Clearly as expected Noun and Adjective and Noun and Determiner are highly correlated. Often Determiners and Adjectives are followed by Noun."
   ]
  },
  {
   "cell_type": "code",
   "execution_count": 18,
   "metadata": {},
   "outputs": [
    {
     "data": {
      "text/plain": [
       "95587"
      ]
     },
     "execution_count": 18,
     "metadata": {},
     "output_type": "execute_result"
    }
   ],
   "source": [
    "#Get the total length of tagged words in training corpus\n",
    "len(train_tagged_words)"
   ]
  },
  {
   "cell_type": "code",
   "execution_count": 19,
   "metadata": {},
   "outputs": [],
   "source": [
    "# Viterbi Heuristic\n",
    "def Viterbi(words, train_bag = train_tagged_words):\n",
    "    state = []\n",
    "    T = list(set([pair[1] for pair in train_bag]))\n",
    "    \n",
    "    for key, word in enumerate(words):\n",
    "        #initialise list of probability column for a given observation\n",
    "        p = [] \n",
    "        for tag in T:\n",
    "            if key == 0:\n",
    "                transition_p = tags_df.loc['.', tag]\n",
    "            else:\n",
    "                transition_p = tags_df.loc[state[-1], tag]\n",
    "                \n",
    "            # compute emission and state probabilities\n",
    "            emission_p = word_given_tag(words[key], tag)[0]/word_given_tag(words[key], tag)[1]\n",
    "            state_probability = emission_p * transition_p    \n",
    "            p.append(state_probability)\n",
    "            \n",
    "        pmax = max(p)\n",
    "        # getting state for which probability is maximum\n",
    "        state_max = T[p.index(pmax)] \n",
    "        state.append(state_max)\n",
    "    return list(zip(words, state))"
   ]
  },
  {
   "cell_type": "code",
   "execution_count": 20,
   "metadata": {},
   "outputs": [],
   "source": [
    "# Running on entire test dataset would take more than 3-4hrs. \n",
    "# Let's test our Viterbi algorithm on a few sample sentences of test dataset\n",
    "\n",
    "# list of tagged words in test set\n",
    "test_run_base = [tup for sent in test_set for tup in sent]\n",
    "\n",
    "# list of  words which are untagged in test set\n",
    "test_tagged_words = [tup[0] for sent in test_set for tup in sent]"
   ]
  },
  {
   "cell_type": "code",
   "execution_count": 21,
   "metadata": {},
   "outputs": [],
   "source": [
    "# tagging the test sentences\n",
    "start = time.time()\n",
    "tagged_seq = Viterbi(test_tagged_words)\n",
    "end = time.time()\n",
    "difference = end-start"
   ]
  },
  {
   "cell_type": "code",
   "execution_count": 22,
   "metadata": {},
   "outputs": [
    {
     "name": "stdout",
     "output_type": "stream",
     "text": [
      "1169.1944825649261\n"
     ]
    }
   ],
   "source": [
    "#Print total time taken to train the algorithm\n",
    "print(difference)"
   ]
  },
  {
   "cell_type": "code",
   "execution_count": 23,
   "metadata": {},
   "outputs": [
    {
     "name": "stdout",
     "output_type": "stream",
     "text": [
      "0.9076439379052859\n"
     ]
    }
   ],
   "source": [
    "# Get accuracy of model\n",
    "check = [i for i, j in zip(tagged_seq, test_run_base) if i == j] \n",
    "accuracy = len(check)/len(tagged_seq)\n",
    "print(accuracy)"
   ]
  },
  {
   "cell_type": "markdown",
   "metadata": {},
   "source": [
    "We get around 90% of accuracy with the default Viterbi algorithm.\n",
    "\n",
    "Let's compare with the test sentences and see how it tagged the sentences"
   ]
  },
  {
   "cell_type": "code",
   "execution_count": 24,
   "metadata": {},
   "outputs": [
    {
     "name": "stdout",
     "output_type": "stream",
     "text": [
      "Android is a mobile operating system developed by Google.\r\n",
      "\n",
      "Android has been the best-selling OS worldwide on smartphones since 2011 and on tablets since 2013.\r\n",
      "\n",
      "Google and Twitter made a deal in 2015 that gave Google access to Twitter's firehose.\r\n",
      "\n",
      "Twitter is an online news and social networking service on which users post and interact with messages known as tweets.\r\n",
      "\n",
      "Before entering politics, Donald Trump was a domineering businessman and a television personality.\r\n",
      "\n",
      "The 2018 FIFA World Cup is the 21st FIFA World Cup, an international football tournament contested once every four years.\r\n",
      "\n",
      "This is the first World Cup to be held in Eastern Europe and the 11th time that it has been held in Europe.\r\n",
      "\n",
      "Show me the cheapest round trips from Dallas to Atlanta\r\n",
      "\n",
      "I would like to see flights from Denver to Philadelphia.\r\n",
      "\n",
      "Show me the price of the flights leaving Atlanta at about 3 in the afternoon and arriving in San Francisco.\r\n",
      "\n",
      "NASA invited social media users to experience the launch of ICESAT-2 Satellite.\r\n",
      "\n",
      "\r\n",
      "\n",
      "\r\n",
      "\n",
      "\r\n",
      "\n"
     ]
    }
   ],
   "source": [
    "#Read the text file\n",
    "lines=[]\n",
    "f = codecs.open(\"Test_sentences.txt\", encoding='utf-8')\n",
    "for line in f:\n",
    "    print(line)\n",
    "    lines.append(line)"
   ]
  },
  {
   "cell_type": "markdown",
   "metadata": {},
   "source": [
    "### Solve the problem of unknown words"
   ]
  },
  {
   "cell_type": "code",
   "execution_count": 25,
   "metadata": {},
   "outputs": [
    {
     "data": {
      "text/plain": [
       "['Android is a mobile operating system developed by Google.\\r\\n',\n",
       " 'Android has been the best-selling OS worldwide on smartphones since 2011 and on tablets since 2013.\\r\\n',\n",
       " \"Google and Twitter made a deal in 2015 that gave Google access to Twitter's firehose.\\r\\n\",\n",
       " 'Twitter is an online news and social networking service on which users post and interact with messages known as tweets.\\r\\n',\n",
       " 'Before entering politics, Donald Trump was a domineering businessman and a television personality.\\r\\n',\n",
       " 'The 2018 FIFA World Cup is the 21st FIFA World Cup, an international football tournament contested once every four years.\\r\\n',\n",
       " 'This is the first World Cup to be held in Eastern Europe and the 11th time that it has been held in Europe.\\r\\n',\n",
       " 'Show me the cheapest round trips from Dallas to Atlanta\\r\\n',\n",
       " 'I would like to see flights from Denver to Philadelphia.\\r\\n',\n",
       " 'Show me the price of the flights leaving Atlanta at about 3 in the afternoon and arriving in San Francisco.\\r\\n',\n",
       " 'NASA invited social media users to experience the launch of ICESAT-2 Satellite.\\r\\n',\n",
       " '\\r\\n',\n",
       " '\\r\\n',\n",
       " '\\r\\n']"
      ]
     },
     "execution_count": 25,
     "metadata": {},
     "output_type": "execute_result"
    }
   ],
   "source": [
    "lines"
   ]
  },
  {
   "cell_type": "code",
   "execution_count": 26,
   "metadata": {},
   "outputs": [
    {
     "data": {
      "text/plain": [
       "['Android is a mobile operating system developed by Google.',\n",
       " 'Android has been the best-selling OS worldwide on smartphones since 2011 and on tablets since 2013.',\n",
       " \"Google and Twitter made a deal in 2015 that gave Google access to Twitter's firehose.\",\n",
       " 'Twitter is an online news and social networking service on which users post and interact with messages known as tweets.',\n",
       " 'Before entering politics, Donald Trump was a domineering businessman and a television personality.',\n",
       " 'The 2018 FIFA World Cup is the 21st FIFA World Cup, an international football tournament contested once every four years.',\n",
       " 'This is the first World Cup to be held in Eastern Europe and the 11th time that it has been held in Europe.',\n",
       " 'Show me the cheapest round trips from Dallas to Atlanta',\n",
       " 'I would like to see flights from Denver to Philadelphia.',\n",
       " 'Show me the price of the flights leaving Atlanta at about 3 in the afternoon and arriving in San Francisco.',\n",
       " 'NASA invited social media users to experience the launch of ICESAT-2 Satellite.']"
      ]
     },
     "execution_count": 26,
     "metadata": {},
     "output_type": "execute_result"
    }
   ],
   "source": [
    "#Strip the special characters and empty strings in the list file\n",
    "test_lines =[sent.rstrip() for sent in lines if sent.rstrip()!='']\n",
    "test_lines"
   ]
  },
  {
   "cell_type": "code",
   "execution_count": 27,
   "metadata": {},
   "outputs": [
    {
     "data": {
      "text/plain": [
       "[[(\"'s\", 'PRT'), (('firm', 'NOUN'), ('firm', 'ADJ'))],\n",
       " [('steady', 'ADJ'), (('opening', 'VERB'), ('opening', 'NOUN'))],\n",
       " [('also', 'ADV'), (('tempted', 'CONJ'), ('tempted', 'VERB'))],\n",
       " [('The', 'DET'), (('following', 'NOUN'), ('following', 'VERB'))],\n",
       " [('return', 'NOUN'), (('measures', 'NOUN'), ('measures', 'VERB'))],\n",
       " [('for', 'ADP'), (('managements', 'CONJ'), ('managements', 'NOUN'))],\n",
       " [('a', 'DET'), (('net', 'ADJ'), ('net', 'NOUN'))],\n",
       " [('to', 'PRT'), (('report', 'NOUN'), ('report', 'VERB'))],\n",
       " [('Donald', 'NOUN'), (('Pardus', 'CONJ'), ('Pardus', 'NOUN'))],\n",
       " [('Cosby', 'NOUN'), (('Show', 'CONJ'), ('Show', 'NOUN'))],\n",
       " [('turned', 'VERB'), (('around', 'ADP'), ('around', 'PRT'))],\n",
       " [('the', 'DET'), (('Huxtable', 'CONJ'), ('Huxtable', 'NOUN'))],\n",
       " [('of', 'ADP'), (('viewers', 'CONJ'), ('viewers', 'NOUN'))],\n",
       " [('viewers', 'NOUN'), (('laughing', 'ADJ'), ('laughing', 'VERB'))],\n",
       " [('to', 'PRT'), (('contest', 'CONJ'), ('contest', 'VERB'))],\n",
       " [('Health', 'NOUN'), (('Review', 'CONJ'), ('Review', 'NOUN'))],\n",
       " [('big', 'ADJ'), (('enough', 'ADJ'), ('enough', 'ADV'))],\n",
       " [('and', 'CONJ'), (('liquid', 'CONJ'), ('liquid', 'NOUN'))],\n",
       " [('for', 'ADP'), (('alleged', 'ADJ'), ('alleged', 'VERB'))],\n",
       " [('John', 'NOUN'), (('Morrell', 'CONJ'), ('Morrell', 'NOUN'))],\n",
       " [('Morrell', 'NOUN'), (('&', 'X'), ('&', 'CONJ'))],\n",
       " [('a', 'DET'), (('meatpacking', 'CONJ'), ('meatpacking', 'NOUN'))],\n",
       " [('United', 'NOUN'), (('Brands', 'CONJ'), ('Brands', 'NOUN'))],\n",
       " [('unusual', 'ADJ'), (('write-downs', 'CONJ'), ('write-downs', 'NOUN'))],\n",
       " [('$', '.'), (('4.9', 'CONJ'), ('4.9', 'NUM'))],\n",
       " [('.', '.'), (('Odyssey', 'CONJ'), ('Odyssey', 'NOUN'))],\n",
       " [('Partners', 'NOUN'), (('Limited', 'CONJ'), ('Limited', 'NOUN'))],\n",
       " [('Limited', 'NOUN'), (('Partnership', 'CONJ'), ('Partnership', 'NOUN'))],\n",
       " [('this', 'DET'), (('plaintive', 'CONJ'), ('plaintive', 'ADJ'))],\n",
       " [(',', '.'), (('high-minded', 'CONJ'), ('high-minded', 'ADJ'))],\n",
       " [('of', 'ADP'), (('assurance', 'CONJ'), ('assurance', 'NOUN'))],\n",
       " [('*', 'X'), (('reading', 'NOUN'), ('reading', 'VERB'))],\n",
       " [('about', 'ADP'), (('sticky', 'CONJ'), ('sticky', 'ADJ'))],\n",
       " [('sticky', 'ADJ'), (('fingers', 'CONJ'), ('fingers', 'NOUN'))],\n",
       " [('fingers', 'NOUN'), (('and', 'ADJ'), ('and', 'CONJ'))],\n",
       " [('and', 'CONJ'), (('sweaty', 'CONJ'), ('sweaty', 'ADJ'))],\n",
       " [('the', 'DET'), (('Lorain', 'CONJ'), ('Lorain', 'NOUN'))],\n",
       " [('a', 'DET'), (('50-50', 'CONJ'), ('50-50', 'NUM'))],\n",
       " [('50-50', 'NUM'), (('joint', 'ADJ'), ('joint', 'NOUN'))],\n",
       " [(\"'s\", 'PRT'), (('Kobe', 'CONJ'), ('Kobe', 'NOUN'))],\n",
       " [('covers', 'VERB'), (('only', 'ADV'), ('only', 'ADJ'))],\n",
       " [('who', 'PRON'), (('*T*-260', 'CONJ'), ('*T*-260', 'X'))],\n",
       " [('coming', 'VERB'), (('closer', 'ADJ'), ('closer', 'ADV'))],\n",
       " [('*', 'X'), (('achieving', 'CONJ'), ('achieving', 'VERB'))],\n",
       " [('some', 'DET'), (('downward', 'ADV'), ('downward', 'ADJ'))],\n",
       " [('congressional', 'ADJ'),\n",
       "  (('Republicans', 'CONJ'), ('Republicans', 'NOUN'))],\n",
       " [('to', 'PRT'), (('bend', 'CONJ'), ('bend', 'VERB'))],\n",
       " [('to', 'PRT'), (('compromise', 'NOUN'), ('compromise', 'VERB'))],\n",
       " [('even', 'ADV'), (('dreamt', 'CONJ'), ('dreamt', 'VERB'))],\n",
       " [(',', '.'), (('seven-year', 'CONJ'), ('seven-year', 'ADJ'))],\n",
       " [('one', 'NUM'), (('offering', 'NOUN'), ('offering', 'VERB'))],\n",
       " [('--', '.'), (('offer', 'NOUN'), ('offer', 'VERB'))],\n",
       " [('GMAC', 'NOUN'), (('screened', 'CONJ'), ('screened', 'VERB'))],\n",
       " [('the', 'DET'), (('card-member', 'CONJ'), ('card-member', 'NOUN'))],\n",
       " [('holders', 'NOUN'), (('more', 'ADV'), ('more', 'ADJ'))],\n",
       " [('household', 'NOUN'), (('incomes', 'CONJ'), ('incomes', 'NOUN'))],\n",
       " [('``', '.'), (('missed', 'CONJ'), ('missed', 'VERB'))],\n",
       " [('At', 'ADP'), (('Christie', 'CONJ'), ('Christie', 'NOUN'))],\n",
       " [('Christie', 'NOUN'), ((\"'s\", 'VERB'), (\"'s\", 'PRT'))],\n",
       " [('a', 'DET'), (('folio', 'CONJ'), ('folio', 'NOUN'))],\n",
       " [('``', '.'), (('Equivalents', 'CONJ'), ('Equivalents', 'NOUN'))],\n",
       " [('$', '.'), (('396,000', 'CONJ'), ('396,000', 'NUM'))],\n",
       " [('a', 'DET'), (('single-lot', 'CONJ'), ('single-lot', 'ADJ'))],\n",
       " [('The', 'DET'), (('most', 'ADJ'), ('most', 'ADV'))],\n",
       " [('widely', 'ADV'), (('used', 'VERB'), ('used', 'ADJ'))],\n",
       " [('by', 'ADP'), (('Houghton', 'CONJ'), ('Houghton', 'NOUN'))],\n",
       " [('Houghton', 'NOUN'), (('Mifflin', 'CONJ'), ('Mifflin', 'NOUN'))],\n",
       " [('and', 'CONJ'), (('Harcourt', 'CONJ'), ('Harcourt', 'NOUN'))],\n",
       " [('Harcourt', 'NOUN'), (('Brace', 'CONJ'), ('Brace', 'NOUN'))],\n",
       " [('Brace', 'NOUN'), (('Jovanovich', 'CONJ'), ('Jovanovich', 'NOUN'))],\n",
       " [(\"'s\", 'PRT'), (('Metropolitan', 'CONJ'), ('Metropolitan', 'NOUN'))],\n",
       " [('was', 'VERB'), (('stripped', 'CONJ'), ('stripped', 'VERB'))],\n",
       " [('the', 'DET'), (('Noriega', 'CONJ'), ('Noriega', 'NOUN'))],\n",
       " [('Noriega', 'NOUN'), (('regime', 'CONJ'), ('regime', 'NOUN'))],\n",
       " [('of', 'ADP'), (('30,537', 'CONJ'), ('30,537', 'NUM'))],\n",
       " [('a', 'DET'), (('21-month', 'CONJ'), ('21-month', 'ADJ'))],\n",
       " [('with', 'ADP'),\n",
       "  (('yttrium-containing', 'CONJ'), ('yttrium-containing', 'ADJ'))],\n",
       " [('to', 'PRT'), (('liquid-nitrogen', 'CONJ'), ('liquid-nitrogen', 'NOUN'))],\n",
       " [('liquid-nitrogen', 'NOUN'),\n",
       "  (('temperature', 'CONJ'), ('temperature', 'NOUN'))],\n",
       " [('or', 'CONJ'), (('minus', 'NOUN'), ('minus', 'CONJ'))],\n",
       " [('minus', 'CONJ'), (('321', 'CONJ'), ('321', 'NUM'))],\n",
       " [('degrees', 'NOUN'), (('Fahrenheit', 'CONJ'), ('Fahrenheit', 'NOUN'))],\n",
       " [('.', '.'), (('Declining', 'CONJ'), ('Declining', 'VERB'))],\n",
       " [('slightly', 'ADV'), (('outnumbered', 'CONJ'), ('outnumbered', 'VERB'))],\n",
       " [(',', '.'), (('454', 'CONJ'), ('454', 'NUM'))],\n",
       " [('to', 'PRT'), (('451', 'CONJ'), ('451', 'NUM'))],\n",
       " [('is', 'VERB'), (('incredible', 'CONJ'), ('incredible', 'ADJ'))],\n",
       " [('*T*-1', 'X'), (('Walt', 'CONJ'), ('Walt', 'NOUN'))],\n",
       " [('Walt', 'NOUN'), (('Haney', 'CONJ'), ('Haney', 'NOUN'))],\n",
       " [('Moody', 'NOUN'), ((\"'s\", 'PRT'), (\"'s\", 'VERB'))],\n",
       " [('move', 'NOUN'), (('that', 'ADP'), ('that', 'DET'))],\n",
       " [('its', 'PRON'), (('borrowings', 'CONJ'), ('borrowings', 'NOUN'))],\n",
       " [('borrowings', 'NOUN'), (('and', 'ADJ'), ('and', 'CONJ'))],\n",
       " [('and', 'CONJ'), (('signal', 'NOUN'), ('signal', 'VERB'))],\n",
       " [('a', 'DET'), (('trap', 'CONJ'), ('trap', 'NOUN'))],\n",
       " [('for', 'ADP'), (('unwary', 'CONJ'), ('unwary', 'ADJ'))],\n",
       " [('senior', 'ADJ'), (('quantitative', 'CONJ'), ('quantitative', 'ADJ'))],\n",
       " [('.', '.'), (('South', 'NOUN'), ('South', 'ADJ'))],\n",
       " [('South', 'ADJ'), (('African', 'NOUN'), ('African', 'ADJ'))],\n",
       " [('*', 'X'), (('Arbitraging', 'CONJ'), ('Arbitraging', 'VERB'))],\n",
       " [('company', 'NOUN'), (('that', 'ADP'), ('that', 'DET'))],\n",
       " [('that', 'DET'), (('*T*-146', 'CONJ'), ('*T*-146', 'X'))],\n",
       " [('Michael', 'NOUN'), (('Stark', 'CONJ'), ('Stark', 'NOUN'))],\n",
       " [('at', 'ADP'), (('Robertson', 'CONJ'), ('Robertson', 'NOUN'))],\n",
       " [(',', '.'), (('Stephens', 'CONJ'), ('Stephens', 'NOUN'))],\n",
       " [('Stephens', 'NOUN'), (('&', 'X'), ('&', 'CONJ'))],\n",
       " [('Union', 'NOUN'), (('Planters', 'CONJ'), ('Planters', 'NOUN'))],\n",
       " [('of', 'ADP'), (('Memphis', 'CONJ'), ('Memphis', 'NOUN'))],\n",
       " [(',', '.'), (('Tenn.', 'CONJ'), ('Tenn.', 'NOUN'))],\n",
       " [('The', 'DET'), (('Edge', 'CONJ'), ('Edge', 'NOUN'))],\n",
       " [('``', '.'), (('thirtysomething', 'CONJ'), ('thirtysomething', 'NOUN'))],\n",
       " [(\"''\", '.'), (('crowd', 'CONJ'), ('crowd', 'NOUN'))],\n",
       " [('services', 'NOUN'), (('that', 'ADP'), ('that', 'DET'))],\n",
       " [('that', 'DET'), (('*T*-197', 'CONJ'), ('*T*-197', 'X'))],\n",
       " [('point', 'NOUN'), (('off', 'PRT'), ('off', 'ADV'))],\n",
       " [('to', 'PRT'), (('gain', 'NOUN'), ('gain', 'VERB'))],\n",
       " [('.', '.'), (('Fourteen', 'CONJ'), ('Fourteen', 'NUM'))],\n",
       " [('with', 'ADP'), (('jurisdiction', 'CONJ'), ('jurisdiction', 'NOUN'))],\n",
       " [('the', 'DET'), (('EEOC', 'CONJ'), ('EEOC', 'NOUN'))],\n",
       " [('his', 'PRON'), (('judgment', 'CONJ'), ('judgment', 'NOUN'))],\n",
       " [(\"''\", '.'), (('DISCOUNT', 'CONJ'), ('DISCOUNT', 'NOUN'))],\n",
       " [('to', 'PRT'), (('recruit', 'CONJ'), ('recruit', 'VERB'))],\n",
       " [('recruit', 'VERB'), (('prominent', 'CONJ'), ('prominent', 'ADJ'))],\n",
       " [('prominent', 'ADJ'), (('doctors', 'CONJ'), ('doctors', 'NOUN'))],\n",
       " [('the', 'DET'), (('helm', 'CONJ'), ('helm', 'NOUN'))],\n",
       " [('the', 'DET'), (('Centers', 'CONJ'), ('Centers', 'NOUN'))],\n",
       " [('for', 'ADP'), (('Disease', 'CONJ'), ('Disease', 'NOUN'))],\n",
       " [('Disease', 'NOUN'), (('Control', 'CONJ'), ('Control', 'NOUN'))],\n",
       " [('London', 'NOUN'), (('serves', 'CONJ'), ('serves', 'VERB'))],\n",
       " [('a', 'DET'), (('conduit', 'CONJ'), ('conduit', 'NOUN'))],\n",
       " [('backers', 'NOUN'), (('concede', 'CONJ'), ('concede', 'VERB'))],\n",
       " [('the', 'DET'), (('polls', 'CONJ'), ('polls', 'NOUN'))],\n",
       " [('.', '.'), (('INQUIRY', 'CONJ'), ('INQUIRY', 'NOUN'))],\n",
       " [('INQUIRY', 'NOUN'), (('CLEARS', 'CONJ'), ('CLEARS', 'VERB'))],\n",
       " [('CLEARS', 'VERB'), (('TEXAS', 'CONJ'), ('TEXAS', 'NOUN'))],\n",
       " [('TEXAS', 'NOUN'), (('JUDGE', 'CONJ'), ('JUDGE', 'NOUN'))],\n",
       " [('rose', 'VERB'), (('87.5', 'CONJ'), ('87.5', 'NUM'))],\n",
       " [('$', '.'), (('38.875', 'CONJ'), ('38.875', 'NUM'))],\n",
       " [('they', 'PRON'), (('approach', 'NOUN'), ('approach', 'VERB'))],\n",
       " [('a', 'DET'), (('benevolent', 'CONJ'), ('benevolent', 'ADJ'))],\n",
       " [(',', '.'), (('altruistic', 'CONJ'), ('altruistic', 'ADJ'))],\n",
       " [('to', 'PRT'), (('facilitate', 'CONJ'), ('facilitate', 'VERB'))],\n",
       " [('provision', 'NOUN'), (('amounts', 'NOUN'), ('amounts', 'VERB'))],\n",
       " [('a', 'DET'), (('one-house', 'CONJ'), ('one-house', 'ADJ'))],\n",
       " [('neither', 'DET'), (('bicameral', 'CONJ'), ('bicameral', 'ADJ'))],\n",
       " [('nor', 'CONJ'), (('presentation', 'CONJ'), ('presentation', 'NOUN'))],\n",
       " [('his', 'PRON'), (('signature', 'CONJ'), ('signature', 'NOUN'))],\n",
       " [('share', 'NOUN'), (('that', 'ADP'), ('that', 'DET'))],\n",
       " [('that', 'DET'), (('*T*-119', 'CONJ'), ('*T*-119', 'X'))],\n",
       " [('*T*-119', 'X'), (('expires', 'CONJ'), ('expires', 'VERB'))],\n",
       " [('great', 'ADJ'), (('reds', 'CONJ'), ('reds', 'NOUN'))],\n",
       " [('the', 'DET'), (('Rhone', 'CONJ'), ('Rhone', 'NOUN'))],\n",
       " [('price', 'NOUN'), (('as', 'ADP'), ('as', 'ADV'))],\n",
       " [('fixed', 'VERB'), (('106', 'CONJ'), ('106', 'NUM'))],\n",
       " [('yield', 'VERB'), (('3.42', 'CONJ'), ('3.42', 'NUM'))],\n",
       " [('the', 'DET'), (('statue', 'CONJ'), ('statue', 'NOUN'))],\n",
       " [('Thomas', 'NOUN'), (('Jefferson', 'CONJ'), ('Jefferson', 'NOUN'))],\n",
       " [('Jefferson', 'NOUN'), (('dissolves', 'CONJ'), ('dissolves', 'VERB'))],\n",
       " [('take', 'VERB'), (('away', 'ADV'), ('away', 'PRT'))],\n",
       " [('usually', 'ADV'), (('practiced', 'CONJ'), ('practiced', 'VERB'))],\n",
       " [('different', 'ADJ'), (('locations', 'CONJ'), ('locations', 'NOUN'))],\n",
       " [(',', '.'), (('trading', 'NOUN'), ('trading', 'VERB'))],\n",
       " [('for', 'ADP'), (('long', 'ADJ'), ('long', 'ADV'))],\n",
       " [('prices', 'NOUN'), (('that', 'ADP'), ('that', 'DET'))],\n",
       " [('a', 'DET'), (('first-time', 'CONJ'), ('first-time', 'ADJ'))],\n",
       " [('program', 'NOUN'), (('that', 'ADP'), ('that', 'DET'))],\n",
       " [('that', 'DET'), (('*T*-99', 'CONJ'), ('*T*-99', 'X'))],\n",
       " [('have', 'VERB'), (('expunged', 'CONJ'), ('expunged', 'VERB'))],\n",
       " [('the', 'DET'), (('conviction', 'CONJ'), ('conviction', 'NOUN'))],\n",
       " [('.', '.'), (('Corporate', 'NOUN'), ('Corporate', 'ADJ'))],\n",
       " [(\"n't\", 'ADV'), (('inhibit', 'CONJ'), ('inhibit', 'VERB'))],\n",
       " [('purchase', 'NOUN'), (('plans', 'VERB'), ('plans', 'NOUN'))],\n",
       " [('tumbled', 'VERB'), (('down', 'ADV'), ('down', 'ADP'))],\n",
       " [('a', 'DET'), (('slippery', 'CONJ'), ('slippery', 'ADJ'))],\n",
       " [('slippery', 'ADJ'), (('slope', 'CONJ'), ('slope', 'NOUN'))],\n",
       " [('in', 'ADP'), (('1988-89', 'CONJ'), ('1988-89', 'NUM'))],\n",
       " [('sizable', 'ADJ'), (('chunks', 'CONJ'), ('chunks', 'NOUN'))],\n",
       " [('its', 'PRON'), (('diversified', 'VERB'), ('diversified', 'ADJ'))],\n",
       " [('with', 'ADP'), (('Univest', 'CONJ'), ('Univest', 'NOUN'))],\n",
       " [('$', '.'), (('25.50', 'CONJ'), ('25.50', 'NUM'))],\n",
       " [(',', '.'), (('portray', 'CONJ'), ('portray', 'VERB'))],\n",
       " [('portray', 'VERB'), (('old-fashioned', 'CONJ'), ('old-fashioned', 'ADJ'))],\n",
       " [('the', 'DET'), (('Neanderthals', 'CONJ'), ('Neanderthals', 'NOUN'))],\n",
       " [(\"n't\", 'ADV'), (('breathe', 'CONJ'), ('breathe', 'VERB'))],\n",
       " [('analysts', 'NOUN'), (('warn', 'CONJ'), ('warn', 'VERB'))],\n",
       " [('year', 'NOUN'), (('earlier', 'ADV'), ('earlier', 'ADJ'))],\n",
       " [('to', 'PRT'), (('500,004', 'CONJ'), ('500,004', 'NUM'))],\n",
       " [('Japan', 'NOUN'), (('Automobile', 'CONJ'), ('Automobile', 'NOUN'))],\n",
       " [('goes', 'VERB'), (('by', 'ADP'), ('by', 'ADV'))],\n",
       " [('no', 'DET'), (('one', 'NUM'), ('one', 'NOUN'))],\n",
       " [('a', 'DET'), (('planned', 'ADJ'), ('planned', 'VERB'))],\n",
       " [('initial', 'ADJ'), (('public', 'NOUN'), ('public', 'ADJ'))],\n",
       " [('often', 'ADV'), (('buys', 'CONJ'), ('buys', 'VERB'))],\n",
       " [('U.S.', 'NOUN'), (('grains', 'CONJ'), ('grains', 'NOUN'))],\n",
       " [('.', '.'), (('LANDOR', 'CONJ'), ('LANDOR', 'NOUN'))],\n",
       " [('LANDOR', 'NOUN'), (('ASSOCIATES', 'CONJ'), ('ASSOCIATES', 'NOUN'))],\n",
       " [('to', 'PRT'), (('capitalize', 'CONJ'), ('capitalize', 'VERB'))],\n",
       " [('.', '.'), (('Average', 'NOUN'), ('Average', 'ADJ'))],\n",
       " [(':', '.'), (('83,206', 'CONJ'), ('83,206', 'NUM'))],\n",
       " [('FEDERAL', 'NOUN'), (('NATIONAL', 'CONJ'), ('NATIONAL', 'NOUN'))],\n",
       " [('MORTGAGE', 'NOUN'), (('ASSOCIATION', 'CONJ'), ('ASSOCIATION', 'NOUN'))],\n",
       " [('-RRB-', '.'), (('9.75', 'CONJ'), ('9.75', 'NUM'))],\n",
       " [(';', '.'), (('8.70', 'CONJ'), ('8.70', 'NUM'))],\n",
       " [(',', '.'), (('6\\\\/2', 'CONJ'), ('6\\\\/2', 'NUM'))],\n",
       " [('rate', 'NOUN'), (('capped', 'VERB'), ('capped', 'ADJ'))],\n",
       " [('.', '.'), (('Countries', 'CONJ'), ('Countries', 'NOUN'))],\n",
       " [('a', 'DET'), (('framework', 'CONJ'), ('framework', 'NOUN'))],\n",
       " [('No', 'DET'), (('one', 'NUM'), ('one', 'NOUN'))],\n",
       " [('*', 'X'), (('Related', 'CONJ'), ('Related', 'VERB'))],\n",
       " [('was', 'VERB'), (('converting', 'CONJ'), ('converting', 'VERB'))],\n",
       " [('Santa', 'NOUN'), (('Clara', 'CONJ'), ('Clara', 'NOUN'))],\n",
       " [('.', '.'), (('CERTIFICATES', 'CONJ'), ('CERTIFICATES', 'NOUN'))],\n",
       " [('OF', 'ADP'), (('DEPOSIT', 'CONJ'), ('DEPOSIT', 'NOUN'))],\n",
       " [(';', '.'), (('8.06', 'CONJ'), ('8.06', 'NUM'))],\n",
       " [('to', 'PRT'), (('397', 'CONJ'), ('397', 'NUM'))],\n",
       " [(',', '.'), (('index-fund', 'NOUN'), ('index-fund', 'ADJ'))],\n",
       " [('*-1', 'X'), (('leveraging', 'CONJ'), ('leveraging', 'VERB'))],\n",
       " [('*-1', 'X'), (('owning', 'CONJ'), ('owning', 'VERB'))],\n",
       " [('to', 'PRT'), (('own', 'ADJ'), ('own', 'VERB'))],\n",
       " [('any', 'DET'), (('onslaught', 'CONJ'), ('onslaught', 'NOUN'))],\n",
       " [('to', 'PRT'), (('shrug', 'CONJ'), ('shrug', 'VERB'))],\n",
       " [('shrug', 'VERB'), (('off', 'ADP'), ('off', 'PRT'))],\n",
       " [('``', '.'), (('Professional', 'NOUN'), ('Professional', 'ADJ'))],\n",
       " [('get', 'VERB'), (('enough', 'ADV'), ('enough', 'ADJ'))],\n",
       " [('who', 'PRON'), (('*T*-89', 'CONJ'), ('*T*-89', 'X'))],\n",
       " [('.', '.'), (('Groups', 'CONJ'), ('Groups', 'NOUN'))],\n",
       " [('*', 'X'), (('advocating', 'CONJ'), ('advocating', 'VERB'))],\n",
       " [('policies', 'NOUN'), (('that', 'ADP'), ('that', 'DET'))],\n",
       " [('ignoring', 'VERB'),\n",
       "  (('discrimination', 'CONJ'), ('discrimination', 'NOUN'))],\n",
       " [('a', 'DET'), (('while', 'ADP'), ('while', 'NOUN'))],\n",
       " [('The', 'DET'), (('Japanese', 'ADJ'), ('Japanese', 'NOUN'))],\n",
       " [('who', 'PRON'), (('*T*-184', 'CONJ'), ('*T*-184', 'X'))],\n",
       " [('*-2', 'X'), (('informally', 'CONJ'), ('informally', 'ADV'))],\n",
       " [('the', 'DET'), (('impending', 'ADJ'), ('impending', 'VERB'))],\n",
       " [('state-owned', 'ADJ'), (('holding', 'NOUN'), ('holding', 'VERB'))],\n",
       " [('been', 'VERB'), (('setting', 'CONJ'), ('setting', 'VERB'))],\n",
       " [('It', 'PRON'), (('shed', 'CONJ'), ('shed', 'VERB'))],\n",
       " [('to', 'PRT'), (('tender', 'NOUN'), ('tender', 'VERB'))],\n",
       " [('.', '.'), (('Individuals', 'CONJ'), ('Individuals', 'NOUN'))],\n",
       " [('that', 'ADP'), (('Justice', 'NOUN'), ('Justice', 'ADJ'))],\n",
       " [('another', 'DET'), (('drag-down', 'CONJ'), ('drag-down', 'ADJ'))],\n",
       " [('due', 'ADJ'), (('1995', 'CONJ'), ('1995', 'NUM'))],\n",
       " [('fell', 'VERB'), (('9\\\\/32', 'CONJ'), ('9\\\\/32', 'NUM'))],\n",
       " [('to', 'PRT'), (('103', 'CONJ'), ('103', 'NUM'))],\n",
       " [('yield', 'VERB'), (('11.10', 'CONJ'), ('11.10', 'NUM'))],\n",
       " [('A', 'DET'), (('high-balance', 'CONJ'), ('high-balance', 'ADJ'))],\n",
       " [('banks', 'NOUN'), (('pine', 'CONJ'), ('pine', 'VERB'))],\n",
       " [('pine', 'VERB'), (('for', 'ADP'), ('for', 'PRT'))],\n",
       " [('give', 'VERB'), (('much', 'ADV'), ('much', 'ADJ'))],\n",
       " [('much', 'ADJ'), (('thought', 'VERB'), ('thought', 'NOUN'))],\n",
       " [('get', 'VERB'), (('out', 'PRT'), ('out', 'ADP'))],\n",
       " [('the', 'DET'), (('shipbuilding', 'CONJ'), ('shipbuilding', 'NOUN'))],\n",
       " [('about', 'ADP'), (('38.5', 'CONJ'), ('38.5', 'NUM'))],\n",
       " [('its', 'PRON'), (('offer', 'VERB'), ('offer', 'NOUN'))],\n",
       " [('vehicles', 'NOUN'), (('weighing', 'CONJ'), ('weighing', 'VERB'))],\n",
       " [('.', '.'), (('Weatherly', 'CONJ'), ('Weatherly', 'NOUN'))],\n",
       " [('Eugene', 'NOUN'), (('Keehn', 'CONJ'), ('Keehn', 'NOUN'))],\n",
       " [('Keehn', 'NOUN'), (('and', 'ADJ'), ('and', 'CONJ'))],\n",
       " [('William', 'NOUN'), (('Northy', 'CONJ'), ('Northy', 'NOUN'))],\n",
       " [('Northy', 'NOUN'), (('Prater', 'CONJ'), ('Prater', 'NOUN'))],\n",
       " [('of', 'ADP'), (('Mercer', 'CONJ'), ('Mercer', 'NOUN'))],\n",
       " [(',', '.'), (('Wash.', 'CONJ'), ('Wash.', 'NOUN'))],\n",
       " [('of', 'ADP'), (('Red', 'CONJ'), ('Red', 'NOUN'))],\n",
       " [('critics', 'NOUN'), (('profess', 'CONJ'), ('profess', 'VERB'))],\n",
       " [('to', 'PRT'), (('despise', 'CONJ'), ('despise', 'VERB'))],\n",
       " [(\"'s\", 'PRT'), (('minicrash', 'CONJ'), ('minicrash', 'NOUN'))],\n",
       " [('been', 'VERB'), (('shaken', 'CONJ'), ('shaken', 'VERB'))],\n",
       " [('of', 'ADP'), (('resentment', 'CONJ'), ('resentment', 'NOUN'))],\n",
       " [(',', '.'), (('lightning-fast', 'CONJ'), ('lightning-fast', 'ADJ'))],\n",
       " [('futures', 'NOUN'), (('that', 'ADP'), ('that', 'DET'))],\n",
       " [('prices', 'NOUN'), (('reeling', 'CONJ'), ('reeling', 'VERB'))],\n",
       " [('LONDON', 'NOUN'), (('INTERBANK', 'CONJ'), ('INTERBANK', 'NOUN'))],\n",
       " [('INTERBANK', 'NOUN'), (('OFFERED', 'CONJ'), ('OFFERED', 'VERB'))],\n",
       " [('-LRB-', '.'), (('LIBOR', 'CONJ'), ('LIBOR', 'NOUN'))],\n",
       " [('absolutely', 'ADV'), (('dismayed', 'CONJ'), ('dismayed', 'ADJ'))],\n",
       " [('dismayed', 'ADJ'), (('that', 'DET'), ('that', 'ADP'))],\n",
       " [('is', 'VERB'), (('stacking', 'CONJ'), ('stacking', 'VERB'))],\n",
       " [('the', 'DET'), (('deck', 'CONJ'), ('deck', 'NOUN'))],\n",
       " [('are', 'VERB'), (('scaring', 'CONJ'), ('scaring', 'VERB'))],\n",
       " [('*T*-1', 'X'), (('Raymond', 'CONJ'), ('Raymond', 'NOUN'))],\n",
       " [('he', 'PRON'), (('argues', 'CONJ'), ('argues', 'VERB'))],\n",
       " [('progress', 'NOUN'), (('moves', 'NOUN'), ('moves', 'VERB'))],\n",
       " [('make', 'VERB'), (('judgments', 'CONJ'), ('judgments', 'NOUN'))],\n",
       " [('*T*-2', 'X'), (('Myron', 'CONJ'), ('Myron', 'NOUN'))],\n",
       " [('associate', 'NOUN'), (('dean', 'CONJ'), ('dean', 'NOUN'))],\n",
       " [('the', 'DET'), (('vacancy', 'CONJ'), ('vacancy', 'NOUN'))],\n",
       " [('$', '.'), (('98.3', 'CONJ'), ('98.3', 'NUM'))],\n",
       " [('*U*', 'X'), (('promissory', 'CONJ'), ('promissory', 'ADJ'))],\n",
       " [('will', 'VERB'), (('complicate', 'CONJ'), ('complicate', 'VERB'))],\n",
       " [('of', 'ADP'), (('deteriorating', 'CONJ'), ('deteriorating', 'VERB'))],\n",
       " [('much', 'ADV'), (('longer', 'ADJ'), ('longer', 'ADV'))],\n",
       " [('*T*-1', 'X'), (('Wilfred', 'CONJ'), ('Wilfred', 'NOUN'))],\n",
       " [('J.', 'NOUN'), (('Corrigan', 'CONJ'), ('Corrigan', 'NOUN'))],\n",
       " [('and', 'CONJ'), (('chief', 'NOUN'), ('chief', 'ADJ'))],\n",
       " [('chief', 'ADJ'), (('executive', 'NOUN'), ('executive', 'ADJ'))],\n",
       " [('New', 'NOUN'), (('York-based', 'NOUN'), ('York-based', 'ADJ'))],\n",
       " [('a', 'DET'), (('customized', 'CONJ'), ('customized', 'VERB'))],\n",
       " [('and', 'CONJ'), (('advertising', 'NOUN'), ('advertising', 'VERB'))],\n",
       " [('*T*-1', 'X'), (('simulates', 'CONJ'), ('simulates', 'VERB'))],\n",
       " [('simulates', 'VERB'), (('live', 'VERB'), ('live', 'ADJ'))],\n",
       " [('work', 'VERB'), (('damn', 'CONJ'), ('damn', 'ADV'))],\n",
       " [('damn', 'ADV'), (('hard', 'ADJ'), ('hard', 'ADV'))],\n",
       " [('do', 'VERB'), (('*T*-101', 'CONJ'), ('*T*-101', 'X'))],\n",
       " [('for', 'ADP'), (('damn', 'CONJ'), ('damn', 'ADV'))],\n",
       " [('unfair', 'ADJ'), (('aspersions', 'CONJ'), ('aspersions', 'NOUN'))],\n",
       " [('achieve', 'VERB'), (('near-record', 'CONJ'), ('near-record', 'ADJ'))],\n",
       " [('the', 'DET'), (('Second', 'ADJ'), ('Second', 'NOUN'))],\n",
       " [('of', 'ADP'), (('Appeals', 'CONJ'), ('Appeals', 'NOUN'))],\n",
       " [('Lancaster', 'NOUN'), (('Colony', 'CONJ'), ('Colony', 'NOUN'))],\n",
       " [('weeks', 'NOUN'), (('earlier', 'ADV'), ('earlier', 'ADJ'))],\n",
       " [('the', 'DET'), (('reservoirs', 'CONJ'), ('reservoirs', 'NOUN'))],\n",
       " [('``', '.'), (('So', 'ADV'), ('So', 'ADP'))],\n",
       " [('other', 'ADJ'), (('fixed-income', 'CONJ'), ('fixed-income', 'ADJ'))],\n",
       " [('a', 'DET'), (('cue', 'CONJ'), ('cue', 'NOUN'))],\n",
       " [(',', '.'), (('more', 'ADV'), ('more', 'ADJ'))],\n",
       " [('*-1', 'X'), (('backing', 'NOUN'), ('backing', 'VERB'))],\n",
       " [('David', 'NOUN'), (('Magleby', 'CONJ'), ('Magleby', 'NOUN'))],\n",
       " [('of', 'ADP'), (('Brigham', 'CONJ'), ('Brigham', 'NOUN'))],\n",
       " [(\"'s\", 'PRT'), (('500-Stock', 'CONJ'), ('500-Stock', 'NOUN'))],\n",
       " [('added', 'VERB'), (('0.84', 'CONJ'), ('0.84', 'NUM'))],\n",
       " [('to', 'PRT'), (('341.20', 'CONJ'), ('341.20', 'NUM'))],\n",
       " [('was', 'VERB'), (('equivalent', 'NOUN'), ('equivalent', 'ADJ'))],\n",
       " [('industrial', 'ADJ'), (('average', 'ADJ'), ('average', 'NOUN'))],\n",
       " [('owns', 'VERB'), (('about', 'ADP'), ('about', 'ADV'))],\n",
       " [(',', '.'), (('most', 'ADV'), ('most', 'ADJ'))],\n",
       " [('at', 'ADP'), (('nominal', 'CONJ'), ('nominal', 'ADJ'))],\n",
       " [('to', 'PRT'), (('gain', 'NOUN'), ('gain', 'VERB'))],\n",
       " [('sold', 'VERB'), (('*-115', 'CONJ'), ('*-115', 'X'))],\n",
       " [('who', 'PRON'), (('*T*-91', 'CONJ'), ('*T*-91', 'X'))],\n",
       " [('a', 'DET'), (('grandstander', 'CONJ'), ('grandstander', 'NOUN'))],\n",
       " [('with', 'ADP'), (('equity-purchase', 'CONJ'), ('equity-purchase', 'ADJ'))],\n",
       " [('closed', 'VERB'), (('17.5', 'CONJ'), ('17.5', 'NUM'))],\n",
       " [('at', 'ADP'), (('2160.1', 'CONJ'), ('2160.1', 'NUM'))],\n",
       " [('*', 'X'), (('DIALING', 'CONJ'), ('DIALING', 'VERB'))],\n",
       " [('in', 'ADP'), (('detail', 'CONJ'), ('detail', 'NOUN'))],\n",
       " [('what', 'PRON'), (('*T*-252', 'CONJ'), ('*T*-252', 'X'))],\n",
       " [('*-1', 'X'), (('complaining', 'CONJ'), ('complaining', 'VERB'))],\n",
       " [('ended', 'VERB'), (('up', 'ADV'), ('up', 'PRT'))],\n",
       " [('such', 'ADJ'), (('variables', 'CONJ'), ('variables', 'NOUN'))],\n",
       " [('the', 'DET'), (('apparent', 'CONJ'), ('apparent', 'ADJ'))],\n",
       " [('apparent', 'ADJ'), (('slowing', 'VERB'), ('slowing', 'NOUN'))],\n",
       " [('Anthony', 'NOUN'), (('Hazell', 'CONJ'), ('Hazell', 'NOUN'))],\n",
       " [('district', 'NOUN'), (('auditor', 'CONJ'), ('auditor', 'NOUN'))],\n",
       " [(\"n't\", 'ADV'), (('vested', 'CONJ'), ('vested', 'VERB'))],\n",
       " [('may', 'VERB'), (('no', 'DET'), ('no', 'ADV'))],\n",
       " [('no', 'ADV'), (('longer', 'ADJ'), ('longer', 'ADV'))],\n",
       " [('have', 'VERB'), (('as', 'ADP'), ('as', 'ADV'))],\n",
       " [(\"''\", '.'), (('Researchers', 'CONJ'), ('Researchers', 'NOUN'))],\n",
       " [('at', 'ADP'), (('American', 'ADJ'), ('American', 'NOUN'))],\n",
       " [('``', '.'), (('Strategic', 'CONJ'), ('Strategic', 'ADJ'))],\n",
       " [('Norman', 'NOUN'), (('Ricken', 'CONJ'), ('Ricken', 'NOUN'))],\n",
       " [('chief', 'NOUN'), (('operating', 'NOUN'), ('operating', 'VERB'))],\n",
       " [('of', 'ADP'), (('Toys', 'CONJ'), ('Toys', 'NOUN'))],\n",
       " [('``', '.'), (('R', 'CONJ'), ('R', 'NOUN'))],\n",
       " [(\"''\", '.'), (('Us', 'CONJ'), ('Us', 'NOUN'))],\n",
       " [('Frederick', 'NOUN'), (('Deane', 'CONJ'), ('Deane', 'NOUN'))],\n",
       " [('of', 'ADP'), (('Signet', 'CONJ'), ('Signet', 'NOUN'))],\n",
       " [('the', 'DET'), (('Natural', 'CONJ'), ('Natural', 'NOUN'))],\n",
       " [('biggest', 'ADJ'), (('beneficiary', 'CONJ'), ('beneficiary', 'NOUN'))],\n",
       " [('which', 'DET'), (('*T*-118', 'CONJ'), ('*T*-118', 'X'))],\n",
       " [('trading', 'NOUN'), (('roadblock', 'CONJ'), ('roadblock', 'NOUN'))],\n",
       " [('beaten', 'VERB'), (('*-82', 'CONJ'), ('*-82', 'X'))],\n",
       " [('seeking', 'VERB'), (('better', 'ADV'), ('better', 'ADJ'))],\n",
       " [('their', 'PRON'), (('high-volume', 'CONJ'), ('high-volume', 'ADJ'))],\n",
       " [('or', 'CONJ'), (('overseas', 'ADJ'), ('overseas', 'ADV'))],\n",
       " [('$', '.'), (('57.7', 'CONJ'), ('57.7', 'NUM'))],\n",
       " [('they', 'PRON'), (('line', 'NOUN'), ('line', 'VERB'))],\n",
       " [('to', 'PRT'), (('trash', 'CONJ'), ('trash', 'VERB'))],\n",
       " [('.', '.'), (('Sandoz', 'CONJ'), ('Sandoz', 'NOUN'))],\n",
       " [('conducting', 'VERB'), (('preclinical', 'CONJ'), ('preclinical', 'ADJ'))],\n",
       " [('was', 'VERB'), (('116.9', 'CONJ'), ('116.9', 'NUM'))],\n",
       " [('the', 'DET'), (('past', 'ADJ'), ('past', 'NOUN'))],\n",
       " [('of', 'ADP'), (('112.9', 'CONJ'), ('112.9', 'NUM'))],\n",
       " [('of', 'ADP'), (('120.7', 'CONJ'), ('120.7', 'NUM'))],\n",
       " [('I', 'PRON'), (('tell', 'CONJ'), ('tell', 'VERB'))],\n",
       " [('need', 'VERB'), (('more', 'ADV'), ('more', 'ADJ'))],\n",
       " [('Cosby', 'NOUN'), ((\"'\", 'PRT'), (\"'\", '.'))],\n",
       " [('A', 'DET'), (('planned', 'ADJ'), ('planned', 'VERB'))],\n",
       " [('0', 'X'), (('total', 'VERB'), ('total', 'ADJ'))],\n",
       " [('were', 'VERB'), (('topped', 'CONJ'), ('topped', 'VERB'))],\n",
       " [('the', 'DET'), (('16.5', 'CONJ'), ('16.5', 'NUM'))],\n",
       " [('been', 'VERB'), (('notified', 'CONJ'), ('notified', 'VERB'))],\n",
       " [('shares', 'NOUN'), (('*T*-121', 'CONJ'), ('*T*-121', 'X'))],\n",
       " [('*T*-121', 'X'), (('trade', 'NOUN'), ('trade', 'VERB'))],\n",
       " [('up', 'ADV'), (('0.95', 'CONJ'), ('0.95', 'NUM'))],\n",
       " [('up', 'ADV'), (('0.0085', 'CONJ'), ('0.0085', 'NUM'))],\n",
       " [('will', 'VERB'), (('work', 'NOUN'), ('work', 'VERB'))],\n",
       " [('the', 'DET'), (('Backer', 'CONJ'), ('Backer', 'NOUN'))],\n",
       " [('Backer', 'NOUN'), (('Spielvogel', 'CONJ'), ('Spielvogel', 'NOUN'))],\n",
       " [('Spielvogel', 'NOUN'), (('Bates', 'CONJ'), ('Bates', 'NOUN'))],\n",
       " [('the', 'DET'), (('colony', 'CONJ'), ('colony', 'NOUN'))],\n",
       " [('colony', 'NOUN'), ((\"'s\", 'VERB'), (\"'s\", 'PRT'))],\n",
       " [('other', 'ADJ'), (('surveyed', 'CONJ'), ('surveyed', 'VERB'))],\n",
       " [('Finland', 'NOUN'), (('that', 'ADP'), ('that', 'DET'))],\n",
       " [('carry', 'VERB'), (('on', 'ADP'), ('on', 'PRT'))],\n",
       " [(\"'s\", 'PRT'), (('shipbuilding', 'CONJ'), ('shipbuilding', 'NOUN'))],\n",
       " [('.', '.'), (('Shorter', 'CONJ'), ('Shorter', 'ADJ'))],\n",
       " [('the', 'DET'), (('most', 'ADJ'), ('most', 'ADV'))],\n",
       " [('most', 'ADV'), (('prominent', 'CONJ'), ('prominent', 'ADJ'))],\n",
       " [('prominent', 'ADJ'), (('American', 'ADJ'), ('American', 'NOUN'))],\n",
       " [(\"'s\", 'PRT'), (('bloody', 'CONJ'), ('bloody', 'ADJ'))],\n",
       " [('bloody', 'ADJ'), (('suppression', 'CONJ'), ('suppression', 'NOUN'))],\n",
       " [(',', '.'), (('harped', 'CONJ'), ('harped', 'VERB'))],\n",
       " [('international', 'ADJ'), (('outrage', 'CONJ'), ('outrage', 'NOUN'))],\n",
       " [('the', 'DET'), (('massacre', 'CONJ'), ('massacre', 'NOUN'))],\n",
       " [('Salon', 'NOUN'), (('le', 'CONJ'), ('le', 'DET'))],\n",
       " [('taken', 'VERB'), (('measures', 'VERB'), ('measures', 'NOUN'))],\n",
       " [('work', 'NOUN'), (('stoppage', 'CONJ'), ('stoppage', 'NOUN'))],\n",
       " [('new', 'ADJ'), (('Red', 'CONJ'), ('Red', 'NOUN'))],\n",
       " [('Red', 'NOUN'), (('Rock', 'CONJ'), ('Rock', 'NOUN'))],\n",
       " [('Rock', 'NOUN'), (('Terrace', 'CONJ'), ('Terrace', 'NOUN'))],\n",
       " [('the', 'DET'), (('Dunn', 'CONJ'), ('Dunn', 'NOUN'))],\n",
       " [('II', 'NOUN'), (('Limited', 'CONJ'), ('Limited', 'NOUN'))],\n",
       " [('Limited', 'NOUN'), (('Partnership', 'CONJ'), ('Partnership', 'NOUN'))],\n",
       " [('an', 'DET'), (('all-cash', 'CONJ'), ('all-cash', 'ADJ'))],\n",
       " [('be', 'VERB'), (('no', 'DET'), ('no', 'ADV'))],\n",
       " [('unit', 'NOUN'), (('that', 'ADP'), ('that', 'DET'))],\n",
       " [('that', 'DET'), (('*T*-108', 'CONJ'), ('*T*-108', 'X'))],\n",
       " [('which', 'DET'), (('*T*-109', 'CONJ'), ('*T*-109', 'X'))],\n",
       " [('*T*-109', 'X'), (('later', 'ADJ'), ('later', 'ADV'))],\n",
       " [('100', 'NUM'), (('criminal', 'ADJ'), ('criminal', 'NOUN'))],\n",
       " [('an', 'DET'), (('outcry', 'CONJ'), ('outcry', 'NOUN'))],\n",
       " [('the', 'DET'), (('organized', 'VERB'), ('organized', 'ADJ'))],\n",
       " [('organized', 'ADJ'), (('bar', 'VERB'), ('bar', 'NOUN'))],\n",
       " [('who', 'PRON'), (('*T*-125', 'CONJ'), ('*T*-125', 'X'))],\n",
       " [('is', 'VERB'), (('protected', 'CONJ'), ('protected', 'VERB'))],\n",
       " [('a', 'DET'), (('Johnson-era', 'CONJ'), ('Johnson-era', 'NOUN'))],\n",
       " [('creation', 'NOUN'), (('that', 'ADP'), ('that', 'DET'))],\n",
       " [('*T*-2', 'X'), (('mandates', 'CONJ'), ('mandates', 'VERB'))],\n",
       " [('*-1', 'X'), (('noncompetitively', 'CONJ'), ('noncompetitively', 'ADV'))],\n",
       " [('once', 'ADV'), (('male-dominated', 'CONJ'), ('male-dominated', 'ADJ'))],\n",
       " [(';', '.'), (('more', 'ADV'), ('more', 'ADJ'))],\n",
       " [('their', 'PRON'), (('monopoly', 'CONJ'), ('monopoly', 'NOUN'))],\n",
       " [('to', 'PRT'), (('work', 'NOUN'), ('work', 'VERB'))],\n",
       " [('through', 'ADP'), (('cracks', 'CONJ'), ('cracks', 'NOUN'))],\n",
       " [('the', 'DET'), (('grim', 'CONJ'), ('grim', 'ADJ'))],\n",
       " [(',', '.'), (('brutal', 'CONJ'), ('brutal', 'ADJ'))],\n",
       " [('is', 'VERB'), (('cause', 'VERB'), ('cause', 'NOUN'))],\n",
       " [('continually', 'ADV'), (('defined', 'CONJ'), ('defined', 'VERB'))],\n",
       " [('common', 'ADJ'), (('denominator', 'CONJ'), ('denominator', 'NOUN'))],\n",
       " [('*-1', 'X'), (('Moving', 'CONJ'), ('Moving', 'VERB'))],\n",
       " [('he', 'PRON'), (('graduated', 'CONJ'), ('graduated', 'VERB'))],\n",
       " [('graduated', 'VERB'), (('Phi', 'CONJ'), ('Phi', 'NOUN'))],\n",
       " [('Phi', 'NOUN'), (('Beta', 'CONJ'), ('Beta', 'NOUN'))],\n",
       " [('Beta', 'NOUN'), (('Kappa', 'CONJ'), ('Kappa', 'NOUN'))],\n",
       " [('of', 'ADP'), (('Kentucky', 'CONJ'), ('Kentucky', 'NOUN'))],\n",
       " [('*', 'X'), (('spending', 'NOUN'), ('spending', 'VERB'))],\n",
       " [('We', 'PRON'), (('flat', 'ADJ'), ('flat', 'ADV'))],\n",
       " [('ran', 'VERB'), (('out', 'PRT'), ('out', 'ADP'))],\n",
       " [(\"'\", 'PRT'), (('desires', 'CONJ'), ('desires', 'NOUN'))],\n",
       " [('make', 'VERB'), (('fast', 'ADV'), ('fast', 'ADJ'))],\n",
       " [('the', 'DET'), (('removal', 'CONJ'), ('removal', 'NOUN'))],\n",
       " [('it', 'PRON'), (('perceives', 'CONJ'), ('perceives', 'VERB'))],\n",
       " [('perceives', 'VERB'), (('*T*-183', 'CONJ'), ('*T*-183', 'X'))],\n",
       " [('been', 'VERB'), (('resisting', 'CONJ'), ('resisting', 'VERB'))],\n",
       " [('offer', 'NOUN'), (('as', 'ADP'), ('as', 'ADV'))],\n",
       " [('as', 'ADV'), (('proof', 'CONJ'), ('proof', 'ADJ'))],\n",
       " [('proof', 'ADJ'), (('that', 'DET'), ('that', 'ADP'))],\n",
       " [('completed', 'VERB'), (('*-113', 'CONJ'), ('*-113', 'X'))],\n",
       " [('will', 'VERB'), (('convert', 'CONJ'), ('convert', 'VERB'))],\n",
       " [('Each', 'DET'), (('variation', 'CONJ'), ('variation', 'NOUN'))],\n",
       " [('rules', 'NOUN'), (('state', 'NOUN'), ('state', 'VERB'))],\n",
       " [('conversations', 'NOUN'), (('that', 'ADP'), ('that', 'DET'))],\n",
       " [('*', 'X'), (('Compare', 'CONJ'), ('Compare', 'VERB'))],\n",
       " [('*', 'X'), (('reinstating', 'CONJ'), ('reinstating', 'VERB'))],\n",
       " [('C$', '.'), (('9.625', 'CONJ'), ('9.625', 'NUM'))],\n",
       " [('morphogenetic', 'ADJ'), (('protein-1', 'CONJ'), ('protein-1', 'NOUN'))],\n",
       " [('substance', 'NOUN'), (('that', 'ADP'), ('that', 'DET'))],\n",
       " [('can', 'VERB'), (('induce', 'CONJ'), ('induce', 'VERB'))],\n",
       " [('induce', 'VERB'), (('formation', 'CONJ'), ('formation', 'NOUN'))]]"
      ]
     },
     "execution_count": 27,
     "metadata": {},
     "output_type": "execute_result"
    }
   ],
   "source": [
    "#Get the words in the test set which are incorrectly classified\n",
    "incorrect_tagged_cases = [[test_run_base[i-1],j] for i, j in enumerate(zip(tagged_seq, test_run_base)) if j[0]!=j[1]]\n",
    "incorrect_tagged_cases"
   ]
  },
  {
   "cell_type": "markdown",
   "metadata": {},
   "source": [
    "Most of the words which are not present in training set are simply assigned the first pos tag in the training pos tagset\n",
    "\n",
    "Let us do the analysis on the test file which we read before"
   ]
  },
  {
   "cell_type": "code",
   "execution_count": 28,
   "metadata": {},
   "outputs": [
    {
     "name": "stderr",
     "output_type": "stream",
     "text": [
      "[nltk_data] Downloading package punkt to C:\\Users\\Divyam\n",
      "[nltk_data]     ji\\AppData\\Roaming\\nltk_data...\n",
      "[nltk_data]   Package punkt is already up-to-date!\n"
     ]
    },
    {
     "data": {
      "text/plain": [
       "True"
      ]
     },
     "execution_count": 28,
     "metadata": {},
     "output_type": "execute_result"
    }
   ],
   "source": [
    "nltk.download('punkt')"
   ]
  },
  {
   "cell_type": "code",
   "execution_count": 29,
   "metadata": {},
   "outputs": [
    {
     "data": {
      "text/plain": [
       "[('Android', 'CONJ'),\n",
       " ('is', 'VERB'),\n",
       " ('a', 'DET'),\n",
       " ('mobile', 'ADJ'),\n",
       " ('operating', 'NOUN'),\n",
       " ('system', 'NOUN'),\n",
       " ('developed', 'VERB'),\n",
       " ('by', 'ADP'),\n",
       " ('Google', 'CONJ'),\n",
       " ('.', '.'),\n",
       " ('Android', 'CONJ'),\n",
       " ('has', 'VERB'),\n",
       " ('been', 'VERB'),\n",
       " ('the', 'DET'),\n",
       " ('best-selling', 'ADJ'),\n",
       " ('OS', 'CONJ'),\n",
       " ('worldwide', 'CONJ'),\n",
       " ('on', 'ADP'),\n",
       " ('smartphones', 'CONJ'),\n",
       " ('since', 'ADP'),\n",
       " ('2011', 'CONJ'),\n",
       " ('and', 'ADJ'),\n",
       " ('on', 'ADP'),\n",
       " ('tablets', 'NOUN'),\n",
       " ('since', 'ADP'),\n",
       " ('2013', 'CONJ'),\n",
       " ('.', '.'),\n",
       " ('Google', 'CONJ'),\n",
       " ('and', 'ADJ'),\n",
       " ('Twitter', 'CONJ'),\n",
       " ('made', 'VERB'),\n",
       " ('a', 'DET'),\n",
       " ('deal', 'NOUN'),\n",
       " ('in', 'ADP'),\n",
       " ('2015', 'CONJ'),\n",
       " ('that', 'DET'),\n",
       " ('gave', 'VERB'),\n",
       " ('Google', 'CONJ'),\n",
       " ('access', 'NOUN'),\n",
       " ('to', 'PRT'),\n",
       " ('Twitter', 'CONJ'),\n",
       " (\"'s\", 'VERB'),\n",
       " ('firehose', 'CONJ'),\n",
       " ('.', '.'),\n",
       " ('Twitter', 'CONJ'),\n",
       " ('is', 'VERB'),\n",
       " ('an', 'DET'),\n",
       " ('online', 'CONJ'),\n",
       " ('news', 'NOUN'),\n",
       " ('and', 'CONJ'),\n",
       " ('social', 'ADJ'),\n",
       " ('networking', 'NOUN'),\n",
       " ('service', 'NOUN'),\n",
       " ('on', 'ADP'),\n",
       " ('which', 'DET'),\n",
       " ('users', 'NOUN'),\n",
       " ('post', 'NOUN'),\n",
       " ('and', 'CONJ'),\n",
       " ('interact', 'CONJ'),\n",
       " ('with', 'ADP'),\n",
       " ('messages', 'CONJ'),\n",
       " ('known', 'VERB'),\n",
       " ('as', 'ADP'),\n",
       " ('tweets', 'CONJ'),\n",
       " ('.', '.'),\n",
       " ('Before', 'ADP'),\n",
       " ('entering', 'VERB'),\n",
       " ('politics', 'NOUN'),\n",
       " (',', '.'),\n",
       " ('Donald', 'NOUN'),\n",
       " ('Trump', 'NOUN'),\n",
       " ('was', 'VERB'),\n",
       " ('a', 'DET'),\n",
       " ('domineering', 'CONJ'),\n",
       " ('businessman', 'NOUN'),\n",
       " ('and', 'CONJ'),\n",
       " ('a', 'DET'),\n",
       " ('television', 'NOUN'),\n",
       " ('personality', 'CONJ'),\n",
       " ('.', '.'),\n",
       " ('The', 'DET'),\n",
       " ('2018', 'CONJ'),\n",
       " ('FIFA', 'CONJ'),\n",
       " ('World', 'NOUN'),\n",
       " ('Cup', 'CONJ'),\n",
       " ('is', 'VERB'),\n",
       " ('the', 'DET'),\n",
       " ('21st', 'CONJ'),\n",
       " ('FIFA', 'CONJ'),\n",
       " ('World', 'NOUN'),\n",
       " ('Cup', 'CONJ'),\n",
       " (',', '.'),\n",
       " ('an', 'DET'),\n",
       " ('international', 'ADJ'),\n",
       " ('football', 'NOUN'),\n",
       " ('tournament', 'CONJ'),\n",
       " ('contested', 'CONJ'),\n",
       " ('once', 'ADV'),\n",
       " ('every', 'DET'),\n",
       " ('four', 'NUM'),\n",
       " ('years', 'NOUN'),\n",
       " ('.', '.'),\n",
       " ('This', 'DET'),\n",
       " ('is', 'VERB'),\n",
       " ('the', 'DET'),\n",
       " ('first', 'ADJ'),\n",
       " ('World', 'NOUN'),\n",
       " ('Cup', 'CONJ'),\n",
       " ('to', 'PRT'),\n",
       " ('be', 'VERB'),\n",
       " ('held', 'VERB'),\n",
       " ('in', 'ADP'),\n",
       " ('Eastern', 'NOUN'),\n",
       " ('Europe', 'NOUN'),\n",
       " ('and', 'CONJ'),\n",
       " ('the', 'DET'),\n",
       " ('11th', 'ADJ'),\n",
       " ('time', 'NOUN'),\n",
       " ('that', 'ADP'),\n",
       " ('it', 'PRON'),\n",
       " ('has', 'VERB'),\n",
       " ('been', 'VERB'),\n",
       " ('held', 'VERB'),\n",
       " ('in', 'ADP'),\n",
       " ('Europe', 'NOUN'),\n",
       " ('.', '.'),\n",
       " ('Show', 'CONJ'),\n",
       " ('me', 'PRON'),\n",
       " ('the', 'DET'),\n",
       " ('cheapest', 'ADJ'),\n",
       " ('round', 'NOUN'),\n",
       " ('trips', 'CONJ'),\n",
       " ('from', 'ADP'),\n",
       " ('Dallas', 'NOUN'),\n",
       " ('to', 'PRT'),\n",
       " ('Atlanta', 'NOUN'),\n",
       " ('I', 'PRON'),\n",
       " ('would', 'VERB'),\n",
       " ('like', 'ADP'),\n",
       " ('to', 'PRT'),\n",
       " ('see', 'VERB'),\n",
       " ('flights', 'NOUN'),\n",
       " ('from', 'ADP'),\n",
       " ('Denver', 'NOUN'),\n",
       " ('to', 'PRT'),\n",
       " ('Philadelphia', 'NOUN'),\n",
       " ('.', '.'),\n",
       " ('Show', 'CONJ'),\n",
       " ('me', 'PRON'),\n",
       " ('the', 'DET'),\n",
       " ('price', 'NOUN'),\n",
       " ('of', 'ADP'),\n",
       " ('the', 'DET'),\n",
       " ('flights', 'NOUN'),\n",
       " ('leaving', 'VERB'),\n",
       " ('Atlanta', 'NOUN'),\n",
       " ('at', 'ADP'),\n",
       " ('about', 'ADP'),\n",
       " ('3', 'NUM'),\n",
       " ('in', 'ADP'),\n",
       " ('the', 'DET'),\n",
       " ('afternoon', 'NOUN'),\n",
       " ('and', 'CONJ'),\n",
       " ('arriving', 'CONJ'),\n",
       " ('in', 'ADP'),\n",
       " ('San', 'NOUN'),\n",
       " ('Francisco', 'NOUN'),\n",
       " ('.', '.'),\n",
       " ('NASA', 'CONJ'),\n",
       " ('invited', 'CONJ'),\n",
       " ('social', 'ADJ'),\n",
       " ('media', 'NOUN'),\n",
       " ('users', 'NOUN'),\n",
       " ('to', 'PRT'),\n",
       " ('experience', 'NOUN'),\n",
       " ('the', 'DET'),\n",
       " ('launch', 'NOUN'),\n",
       " ('of', 'ADP'),\n",
       " ('ICESAT-2', 'CONJ'),\n",
       " ('Satellite', 'CONJ'),\n",
       " ('.', '.')]"
      ]
     },
     "execution_count": 29,
     "metadata": {},
     "output_type": "execute_result"
    }
   ],
   "source": [
    "#Get the predictions on the test sentences\n",
    "sample_pred_list =[]\n",
    "for line in test_lines:\n",
    "    sample_pred_list=sample_pred_list+list(Viterbi(word_tokenize(line)))\n",
    "sample_pred_list"
   ]
  },
  {
   "cell_type": "markdown",
   "metadata": {},
   "source": [
    "For words like 'Android','Google' the first tag in the training pos tagset is given. Let us see if these words exist in the training corpus"
   ]
  },
  {
   "cell_type": "code",
   "execution_count": 30,
   "metadata": {},
   "outputs": [],
   "source": [
    "#Get the tokens in the test file\n",
    "sample_words=[tokens for line in test_lines for tokens in word_tokenize(line)]"
   ]
  },
  {
   "cell_type": "code",
   "execution_count": 31,
   "metadata": {},
   "outputs": [
    {
     "data": {
      "text/plain": [
       "['invited',\n",
       " '2018',\n",
       " '21st',\n",
       " 'Android',\n",
       " 'Twitter',\n",
       " 'contested',\n",
       " '2015',\n",
       " 'Satellite',\n",
       " 'trips',\n",
       " 'ICESAT-2',\n",
       " 'OS',\n",
       " 'messages',\n",
       " 'Show',\n",
       " 'Cup',\n",
       " '2013',\n",
       " 'arriving',\n",
       " 'domineering',\n",
       " 'interact',\n",
       " 'personality',\n",
       " 'Google',\n",
       " 'firehose',\n",
       " 'online',\n",
       " 'NASA',\n",
       " 'tweets',\n",
       " 'worldwide',\n",
       " 'smartphones',\n",
       " 'tournament',\n",
       " 'FIFA',\n",
       " '2011']"
      ]
     },
     "execution_count": 31,
     "metadata": {},
     "output_type": "execute_result"
    }
   ],
   "source": [
    "#Get the list of words which are present in test lines but not in the training corpus\n",
    "words_not_in_corpus = list(set(sample_words) - set(tokens))\n",
    "words_not_in_corpus"
   ]
  },
  {
   "cell_type": "markdown",
   "metadata": {},
   "source": [
    "Clearly the words like 'Google','Android','Fifa' are not present in the training set and they are all tagged default tags."
   ]
  },
  {
   "cell_type": "code",
   "execution_count": 32,
   "metadata": {},
   "outputs": [
    {
     "data": {
      "text/plain": [
       "[('Android', 'CONJ'),\n",
       " ('Google', 'CONJ'),\n",
       " ('Android', 'CONJ'),\n",
       " ('OS', 'CONJ'),\n",
       " ('worldwide', 'CONJ'),\n",
       " ('smartphones', 'CONJ'),\n",
       " ('2011', 'CONJ'),\n",
       " ('2013', 'CONJ'),\n",
       " ('Google', 'CONJ'),\n",
       " ('Twitter', 'CONJ'),\n",
       " ('2015', 'CONJ'),\n",
       " ('Google', 'CONJ'),\n",
       " ('Twitter', 'CONJ'),\n",
       " ('firehose', 'CONJ'),\n",
       " ('Twitter', 'CONJ'),\n",
       " ('online', 'CONJ'),\n",
       " ('interact', 'CONJ'),\n",
       " ('messages', 'CONJ'),\n",
       " ('tweets', 'CONJ'),\n",
       " ('domineering', 'CONJ'),\n",
       " ('personality', 'CONJ'),\n",
       " ('2018', 'CONJ'),\n",
       " ('FIFA', 'CONJ'),\n",
       " ('Cup', 'CONJ'),\n",
       " ('21st', 'CONJ'),\n",
       " ('FIFA', 'CONJ'),\n",
       " ('Cup', 'CONJ'),\n",
       " ('tournament', 'CONJ'),\n",
       " ('contested', 'CONJ'),\n",
       " ('Cup', 'CONJ'),\n",
       " ('Show', 'CONJ'),\n",
       " ('trips', 'CONJ'),\n",
       " ('Show', 'CONJ'),\n",
       " ('arriving', 'CONJ'),\n",
       " ('NASA', 'CONJ'),\n",
       " ('invited', 'CONJ'),\n",
       " ('ICESAT-2', 'CONJ'),\n",
       " ('Satellite', 'CONJ')]"
      ]
     },
     "execution_count": 32,
     "metadata": {},
     "output_type": "execute_result"
    }
   ],
   "source": [
    "#Get the tags predicted for unknown words\n",
    "[tup for tup in sample_pred_list for word in words_not_in_corpus if tup[0]==word ]"
   ]
  },
  {
   "cell_type": "code",
   "execution_count": 33,
   "metadata": {},
   "outputs": [
    {
     "data": {
      "text/plain": [
       "Counter({'NOUN': 27390,\n",
       "         'PRT': 3051,\n",
       "         'VERB': 12892,\n",
       "         'DET': 8266,\n",
       "         'ADJ': 6075,\n",
       "         'ADP': 9336,\n",
       "         '.': 11142,\n",
       "         'X': 6303,\n",
       "         'PRON': 2591,\n",
       "         'ADV': 3029,\n",
       "         'CONJ': 2147,\n",
       "         'NUM': 3365})"
      ]
     },
     "execution_count": 33,
     "metadata": {},
     "output_type": "execute_result"
    }
   ],
   "source": [
    "#Let us see the count of all tags in the training set\n",
    "from collections import Counter\n",
    "tag_counts = Counter(pair[1] for pair in train_tagged_words)\n",
    "tag_counts"
   ]
  },
  {
   "cell_type": "code",
   "execution_count": 34,
   "metadata": {},
   "outputs": [
    {
     "data": {
      "text/plain": [
       "[('NOUN', 27390), ('VERB', 12892), ('.', 11142), ('ADP', 9336), ('DET', 8266)]"
      ]
     },
     "execution_count": 34,
     "metadata": {},
     "output_type": "execute_result"
    }
   ],
   "source": [
    "# see most common tags can in the training corpus\n",
    "tag_counts.most_common(5)"
   ]
  },
  {
   "cell_type": "code",
   "execution_count": 35,
   "metadata": {},
   "outputs": [
    {
     "data": {
      "text/plain": [
       "Counter({'NOUN': 39,\n",
       "         'VERB': 16,\n",
       "         'CONJ': 333,\n",
       "         'ADJ': 29,\n",
       "         'ADP': 23,\n",
       "         'X': 2,\n",
       "         'ADV': 17,\n",
       "         'PRT': 5,\n",
       "         'NUM': 2,\n",
       "         'DET': 4})"
      ]
     },
     "execution_count": 35,
     "metadata": {},
     "output_type": "execute_result"
    }
   ],
   "source": [
    "#Lets see count of incorrectly classfied words for each tag\n",
    "wrong_tag_counts = Counter(pair[1][0][1] for pair in incorrect_tagged_cases)\n",
    "wrong_tag_counts"
   ]
  },
  {
   "cell_type": "code",
   "execution_count": 36,
   "metadata": {},
   "outputs": [
    {
     "name": "stdout",
     "output_type": "stream",
     "text": [
      "0.20811355879615265\n"
     ]
    },
    {
     "data": {
      "text/plain": [
       "[('defeated', 'VERB'),\n",
       " ('noted', 'VERB'),\n",
       " ('reached', 'VERB'),\n",
       " ('added', 'VERB'),\n",
       " ('prepared', 'VERB'),\n",
       " ('quoted', 'VERB'),\n",
       " ('decided', 'VERB'),\n",
       " ('recorded', 'VERB'),\n",
       " ('printed', 'VERB'),\n",
       " ('reached', 'VERB'),\n",
       " ('asked', 'VERB'),\n",
       " ('received', 'VERB'),\n",
       " ('blamed', 'VERB'),\n",
       " ('secured', 'VERB'),\n",
       " ('arrested', 'VERB'),\n",
       " ('arrived', 'VERB'),\n",
       " ('declared', 'VERB'),\n",
       " ('introduced', 'VERB'),\n",
       " ('wanted', 'VERB'),\n",
       " ('skipped', 'VERB')]"
      ]
     },
     "execution_count": 36,
     "metadata": {},
     "output_type": "execute_result"
    }
   ],
   "source": [
    "# Let us see the percentage of verbs which are classifed as 'verb which end with 'ed'\n",
    "verbs = [pair for pair in train_tagged_words if pair[1]=='VERB']\n",
    "ed_verbs = [pair for pair in verbs if pair[0].endswith('ed')]\n",
    "print(len(ed_verbs) / len(verbs))\n",
    "ed_verbs[:20]"
   ]
  },
  {
   "cell_type": "markdown",
   "metadata": {},
   "source": [
    "Around 20% of words which end with 'ed' are verbs. Though it is 20% it is high because this is universal tagset and Verbs contain all the forms of verbs"
   ]
  },
  {
   "cell_type": "code",
   "execution_count": 37,
   "metadata": {},
   "outputs": [
    {
     "name": "stdout",
     "output_type": "stream",
     "text": [
      "0.10859447719515979\n"
     ]
    },
    {
     "data": {
      "text/plain": [
       "[('surviving', 'VERB'),\n",
       " ('saying', 'VERB'),\n",
       " ('granting', 'VERB'),\n",
       " ('making', 'VERB'),\n",
       " ('going', 'VERB'),\n",
       " ('going', 'VERB'),\n",
       " ('According', 'VERB'),\n",
       " ('leading', 'VERB'),\n",
       " ('raising', 'VERB'),\n",
       " ('ushering', 'VERB'),\n",
       " ('dating', 'VERB'),\n",
       " ('walking', 'VERB'),\n",
       " ('trying', 'VERB'),\n",
       " ('offering', 'VERB'),\n",
       " ('ending', 'VERB'),\n",
       " ('getting', 'VERB'),\n",
       " ('fawning', 'VERB'),\n",
       " ('offering', 'VERB'),\n",
       " ('going', 'VERB'),\n",
       " ('thinking', 'VERB')]"
      ]
     },
     "execution_count": 37,
     "metadata": {},
     "output_type": "execute_result"
    }
   ],
   "source": [
    "# Let us see the percentage of verbs which are classifed as 'verb which end with 'ing'\n",
    "verbs = [pair for pair in train_tagged_words if pair[1]=='VERB']\n",
    "ing_verbs = [pair for pair in verbs if pair[0].endswith('ing')]\n",
    "print(len(ing_verbs) / len(verbs))\n",
    "ing_verbs[:20]"
   ]
  },
  {
   "cell_type": "code",
   "execution_count": 38,
   "metadata": {},
   "outputs": [
    {
     "name": "stdout",
     "output_type": "stream",
     "text": [
      "6075\n",
      "4245\n",
      "0.6987654320987654\n"
     ]
    }
   ],
   "source": [
    "#Lets see percentage of Adjective tags followed by nouns\n",
    "# create a list of all tags (without the words)\n",
    "tags = [pair[1] for pair in train_tagged_words]\n",
    "\n",
    "# create a list of Adj tags\n",
    "adj_tags = [t for t in tags if t == 'ADJ']\n",
    "\n",
    "# create a list of (ADJ, Noun) tags\n",
    "adj_noun_tags = [(t, tags[index+1]) for index, t in enumerate(tags) \n",
    "              if t=='ADJ' and tags[index+1]=='NOUN']\n",
    "\n",
    "print(len(adj_tags))\n",
    "print(len(adj_noun_tags))\n",
    "print(len(adj_noun_tags) / len(adj_tags))"
   ]
  },
  {
   "cell_type": "markdown",
   "metadata": {},
   "source": [
    "Around 70% of adjectives are followed by Nouns"
   ]
  },
  {
   "cell_type": "code",
   "execution_count": 39,
   "metadata": {},
   "outputs": [
    {
     "name": "stdout",
     "output_type": "stream",
     "text": [
      "8266\n",
      "5289\n",
      "0.6398499879022502\n"
     ]
    }
   ],
   "source": [
    "#Lets see percentage of Determinent tags followed by nouns\n",
    "dt_tags = [t for t in tags if t == 'DET']\n",
    "dt_noun_tags = [(t, tags[index+1]) for index, t in enumerate(tags) \n",
    "              if t=='DET' and tags[index+1]=='NOUN']\n",
    "\n",
    "print(len(dt_tags))\n",
    "print(len(dt_noun_tags))\n",
    "print(len(dt_noun_tags) / len(dt_tags))"
   ]
  },
  {
   "cell_type": "markdown",
   "metadata": {},
   "source": [
    "Around 63% of determinants are followed by Nouns"
   ]
  },
  {
   "cell_type": "code",
   "execution_count": 40,
   "metadata": {},
   "outputs": [
    {
     "name": "stdout",
     "output_type": "stream",
     "text": [
      "3029\n",
      "1038\n",
      "0.34268735556289204\n"
     ]
    }
   ],
   "source": [
    "#Lets see percentage of Adverbs tags followed by Verbs\n",
    "adv_tags = [t for t in tags if t == 'ADV']\n",
    "adv_vb_tags = [(t, tags[index+1]) for index, t in enumerate(tags) \n",
    "              if t=='ADV' and tags[index+1]=='VERB']\n",
    "\n",
    "print(len(adv_tags))\n",
    "print(len(adv_vb_tags))\n",
    "print(len(adv_vb_tags) / len(adv_tags))"
   ]
  },
  {
   "cell_type": "markdown",
   "metadata": {},
   "source": [
    "Around 35% of adverbs are followed by verbs\n",
    "\n",
    "Lets use the EDA done above and also grammar to build our rules for regex based tagger"
   ]
  },
  {
   "cell_type": "code",
   "execution_count": 41,
   "metadata": {},
   "outputs": [],
   "source": [
    "# specify patterns for tagging\n",
    "patterns = [\n",
    "    (r'.*ing$', 'VERB'),              # gerund\n",
    "    (r'.*ed$', 'VERB'),               # past tense verbs\n",
    "    (r'.*es$', 'VERB'),               # singular present verbs\n",
    "    (r'.*ould$', 'VERB'),              # modal verbs\n",
    "    (r'.*\\'s$', 'NOUN'),              # possessive nouns\n",
    "    (r'.*s$', 'NOUN'),                # plural nouns\n",
    "    (r'^-?[0-9]+(.[0-9]+)?$', 'NUM'), # cardinal numbers\n",
    "    (r'(The|the|A|a|An|an)$', 'DET'),   # articles or determinants\n",
    "    (r'.*able$', 'ADJ'),                # adjectives\n",
    "    (r'.*ness$', 'NOUN'),                # nouns formed from adjectives\n",
    "    (r'.*ly$', 'ADV'),                  # adverbs\n",
    "    (r'.*', 'NOUN')                    # nouns\n",
    "]"
   ]
  },
  {
   "cell_type": "code",
   "execution_count": 42,
   "metadata": {},
   "outputs": [
    {
     "data": {
      "text/plain": [
       "0.951856946354883"
      ]
     },
     "execution_count": 42,
     "metadata": {},
     "output_type": "execute_result"
    }
   ],
   "source": [
    "# rule based tagger\n",
    "rule_based_tagger = nltk.RegexpTagger(patterns)\n",
    "\n",
    "# lexicon backed up by the rule-based tagger\n",
    "lexicon_tagger = nltk.UnigramTagger(train_set, backoff=rule_based_tagger)\n",
    "\n",
    "lexicon_tagger.evaluate(test_set)"
   ]
  },
  {
   "cell_type": "markdown",
   "metadata": {},
   "source": [
    "For a Unigram lexicon tagger backed up by a rule based tagger the accuracy is around 95%"
   ]
  },
  {
   "cell_type": "markdown",
   "metadata": {},
   "source": [
    "#### Evaluating tagging accuracy"
   ]
  },
  {
   "cell_type": "code",
   "execution_count": 43,
   "metadata": {},
   "outputs": [],
   "source": [
    "#Trigram tagger backed by Bigram backed by Unigram which is backed by rule based tagger\n",
    "t0 = nltk.RegexpTagger(patterns)\n",
    "t1 = nltk.UnigramTagger(train_set, backoff=t0)\n",
    "t2 = nltk.BigramTagger(train_set, backoff=t1)\n",
    "t3 = nltk.TrigramTagger(train_set, backoff=t2)"
   ]
  },
  {
   "cell_type": "markdown",
   "metadata": {},
   "source": [
    "Let us use Brill algorithm as a base algorithm backed by the tagger created above"
   ]
  },
  {
   "cell_type": "code",
   "execution_count": 44,
   "metadata": {},
   "outputs": [],
   "source": [
    "#Import libraries for brill\n",
    "import nltk.tag\n",
    "from nltk.tag import brill\n",
    "from nltk.tag.brill import *\n",
    "from nltk.tbl.template import Template\n",
    "from nltk.tag import BrillTaggerTrainer\n",
    "\n",
    "#Clear existing templates if any\n",
    "Template._cleartemplates()\n",
    "\n",
    "#Load the fntbl37 template\n",
    "templates = fntbl37()\n",
    " \n",
    "#Train the Brill model\n",
    "trainer = BrillTaggerTrainer(t3, templates)\n",
    "brill_tagger = trainer.train(train_set, max_rules=100, min_score=3)"
   ]
  },
  {
   "cell_type": "markdown",
   "metadata": {},
   "source": [
    "The state probabilities for unknown words become zero and hence the Viterbi algorithm updates the unknown words by default with the first tag in the training set.\n",
    "\n",
    "Now lets modify the Viterbi algorithm such that when the state probabilities become zero it updates the tag based on the tagger we created above"
   ]
  },
  {
   "cell_type": "code",
   "execution_count": 45,
   "metadata": {},
   "outputs": [],
   "source": [
    "# Viterbi Heuristic\n",
    "def Viterbi_updated(words, train_bag = train_tagged_words):\n",
    "    state = []\n",
    "    T = list(set([pair[1] for pair in train_bag]))\n",
    "    \n",
    "    for key, word in enumerate(words):\n",
    "        #initialise list of probability column for a given observation\n",
    "        p = [] \n",
    "        for tag in T:\n",
    "            if key == 0:\n",
    "                transition_p = tags_df.loc['.', tag]\n",
    "            else:\n",
    "                transition_p = tags_df.loc[state[-1], tag]\n",
    "                \n",
    "            # compute emission and state probabilities\n",
    "            emission_p = word_given_tag(words[key], tag)[0]/word_given_tag(words[key], tag)[1]\n",
    "            state_probability = emission_p * transition_p    \n",
    "            p.append(state_probability)\n",
    "            \n",
    "        pmax = max(p)\n",
    "       \n",
    "        #Check if state probability is zero\n",
    "        if(pmax==0.0):\n",
    "            #If state probability is zero i.e if the word is unknown if updates the tag based on the brill tagger\n",
    "            state_max = brill_tagger.tag([word])[0][1]\n",
    "        else:\n",
    "            # getting state for which probability is maximum\n",
    "            state_max = T[p.index(pmax)] \n",
    "        state.append(state_max)\n",
    "    return list(zip(words, state))"
   ]
  },
  {
   "cell_type": "markdown",
   "metadata": {},
   "source": [
    "### Compare the tagging accuracies of the modifications with the vanilla Viterbi algorithm"
   ]
  },
  {
   "cell_type": "code",
   "execution_count": 46,
   "metadata": {},
   "outputs": [
    {
     "name": "stdout",
     "output_type": "stream",
     "text": [
      "1175.5165839195251\n"
     ]
    }
   ],
   "source": [
    "# tagging the test sentences with the updated Viterbi algorithm\n",
    "start = time.time()\n",
    "updated_tagged_seq = Viterbi_updated(test_tagged_words)\n",
    "end = time.time()\n",
    "difference = end-start\n",
    "#Print total time taken to train the algorithm\n",
    "print(difference)"
   ]
  },
  {
   "cell_type": "code",
   "execution_count": 47,
   "metadata": {},
   "outputs": [
    {
     "data": {
      "text/plain": [
       "0.953428964433091"
      ]
     },
     "execution_count": 47,
     "metadata": {},
     "output_type": "execute_result"
    }
   ],
   "source": [
    "# Calculate the accuracy for the updated Viterbi algorithm\n",
    "check = [i for i, j in zip(updated_tagged_seq, test_run_base) if i == j] \n",
    "accuracy = len(check)/len(updated_tagged_seq)\n",
    "accuracy"
   ]
  },
  {
   "cell_type": "markdown",
   "metadata": {},
   "source": [
    "Accuracy is increased much by the updated Viterbi algorithm"
   ]
  },
  {
   "cell_type": "markdown",
   "metadata": {},
   "source": [
    "### List down cases which were incorrectly tagged by original POS tagger and got corrected by your modifications"
   ]
  },
  {
   "cell_type": "code",
   "execution_count": 48,
   "metadata": {},
   "outputs": [
    {
     "name": "stdout",
     "output_type": "stream",
     "text": [
      "[('Android', 'CONJ'), ('is', 'VERB'), ('a', 'DET'), ('mobile', 'ADJ'), ('operating', 'NOUN'), ('system', 'NOUN'), ('developed', 'VERB'), ('by', 'ADP'), ('Google', 'CONJ'), ('.', '.')]\n",
      "[('Android', 'CONJ'), ('has', 'VERB'), ('been', 'VERB'), ('the', 'DET'), ('best-selling', 'ADJ'), ('OS', 'CONJ'), ('worldwide', 'CONJ'), ('on', 'ADP'), ('smartphones', 'CONJ'), ('since', 'ADP'), ('2011', 'CONJ'), ('and', 'ADJ'), ('on', 'ADP'), ('tablets', 'NOUN'), ('since', 'ADP'), ('2013', 'CONJ'), ('.', '.')]\n",
      "[('Google', 'CONJ'), ('and', 'ADJ'), ('Twitter', 'CONJ'), ('made', 'VERB'), ('a', 'DET'), ('deal', 'NOUN'), ('in', 'ADP'), ('2015', 'CONJ'), ('that', 'DET'), ('gave', 'VERB'), ('Google', 'CONJ'), ('access', 'NOUN'), ('to', 'PRT'), ('Twitter', 'CONJ'), (\"'s\", 'VERB'), ('firehose', 'CONJ'), ('.', '.')]\n",
      "[('Twitter', 'CONJ'), ('is', 'VERB'), ('an', 'DET'), ('online', 'CONJ'), ('news', 'NOUN'), ('and', 'CONJ'), ('social', 'ADJ'), ('networking', 'NOUN'), ('service', 'NOUN'), ('on', 'ADP'), ('which', 'DET'), ('users', 'NOUN'), ('post', 'NOUN'), ('and', 'CONJ'), ('interact', 'CONJ'), ('with', 'ADP'), ('messages', 'CONJ'), ('known', 'VERB'), ('as', 'ADP'), ('tweets', 'CONJ'), ('.', '.')]\n",
      "[('Before', 'ADP'), ('entering', 'VERB'), ('politics', 'NOUN'), (',', '.'), ('Donald', 'NOUN'), ('Trump', 'NOUN'), ('was', 'VERB'), ('a', 'DET'), ('domineering', 'CONJ'), ('businessman', 'NOUN'), ('and', 'CONJ'), ('a', 'DET'), ('television', 'NOUN'), ('personality', 'CONJ'), ('.', '.')]\n",
      "[('The', 'DET'), ('2018', 'CONJ'), ('FIFA', 'CONJ'), ('World', 'NOUN'), ('Cup', 'CONJ'), ('is', 'VERB'), ('the', 'DET'), ('21st', 'CONJ'), ('FIFA', 'CONJ'), ('World', 'NOUN'), ('Cup', 'CONJ'), (',', '.'), ('an', 'DET'), ('international', 'ADJ'), ('football', 'NOUN'), ('tournament', 'CONJ'), ('contested', 'CONJ'), ('once', 'ADV'), ('every', 'DET'), ('four', 'NUM'), ('years', 'NOUN'), ('.', '.')]\n",
      "[('This', 'DET'), ('is', 'VERB'), ('the', 'DET'), ('first', 'ADJ'), ('World', 'NOUN'), ('Cup', 'CONJ'), ('to', 'PRT'), ('be', 'VERB'), ('held', 'VERB'), ('in', 'ADP'), ('Eastern', 'NOUN'), ('Europe', 'NOUN'), ('and', 'CONJ'), ('the', 'DET'), ('11th', 'ADJ'), ('time', 'NOUN'), ('that', 'ADP'), ('it', 'PRON'), ('has', 'VERB'), ('been', 'VERB'), ('held', 'VERB'), ('in', 'ADP'), ('Europe', 'NOUN'), ('.', '.')]\n",
      "[('Show', 'CONJ'), ('me', 'PRON'), ('the', 'DET'), ('cheapest', 'ADJ'), ('round', 'NOUN'), ('trips', 'CONJ'), ('from', 'ADP'), ('Dallas', 'NOUN'), ('to', 'PRT'), ('Atlanta', 'NOUN')]\n",
      "[('I', 'PRON'), ('would', 'VERB'), ('like', 'ADP'), ('to', 'PRT'), ('see', 'VERB'), ('flights', 'NOUN'), ('from', 'ADP'), ('Denver', 'NOUN'), ('to', 'PRT'), ('Philadelphia', 'NOUN'), ('.', '.')]\n",
      "[('Show', 'CONJ'), ('me', 'PRON'), ('the', 'DET'), ('price', 'NOUN'), ('of', 'ADP'), ('the', 'DET'), ('flights', 'NOUN'), ('leaving', 'VERB'), ('Atlanta', 'NOUN'), ('at', 'ADP'), ('about', 'ADP'), ('3', 'NUM'), ('in', 'ADP'), ('the', 'DET'), ('afternoon', 'NOUN'), ('and', 'CONJ'), ('arriving', 'CONJ'), ('in', 'ADP'), ('San', 'NOUN'), ('Francisco', 'NOUN'), ('.', '.')]\n",
      "[('NASA', 'CONJ'), ('invited', 'CONJ'), ('social', 'ADJ'), ('media', 'NOUN'), ('users', 'NOUN'), ('to', 'PRT'), ('experience', 'NOUN'), ('the', 'DET'), ('launch', 'NOUN'), ('of', 'ADP'), ('ICESAT-2', 'CONJ'), ('Satellite', 'CONJ'), ('.', '.')]\n"
     ]
    }
   ],
   "source": [
    "#Let us print the test lines with the initial Viterbi algorithm\n",
    "for line in test_lines:\n",
    "    print(list(Viterbi(word_tokenize(line))))"
   ]
  },
  {
   "cell_type": "code",
   "execution_count": 49,
   "metadata": {},
   "outputs": [
    {
     "name": "stdout",
     "output_type": "stream",
     "text": [
      "[('Android', 'NOUN'), ('is', 'VERB'), ('a', 'DET'), ('mobile', 'ADJ'), ('operating', 'NOUN'), ('system', 'NOUN'), ('developed', 'VERB'), ('by', 'ADP'), ('Google', 'NOUN'), ('.', '.')]\n",
      "[('Android', 'NOUN'), ('has', 'VERB'), ('been', 'VERB'), ('the', 'DET'), ('best-selling', 'ADJ'), ('OS', 'NOUN'), ('worldwide', 'NOUN'), ('on', 'ADP'), ('smartphones', 'VERB'), ('since', 'ADP'), ('2011', 'NUM'), ('and', 'CONJ'), ('on', 'ADP'), ('tablets', 'NOUN'), ('since', 'ADP'), ('2013', 'NUM'), ('.', '.')]\n",
      "[('Google', 'NOUN'), ('and', 'CONJ'), ('Twitter', 'NOUN'), ('made', 'VERB'), ('a', 'DET'), ('deal', 'NOUN'), ('in', 'ADP'), ('2015', 'NUM'), ('that', 'ADP'), ('gave', 'VERB'), ('Google', 'NOUN'), ('access', 'NOUN'), ('to', 'PRT'), ('Twitter', 'NOUN'), (\"'s\", 'PRT'), ('firehose', 'NOUN'), ('.', '.')]\n",
      "[('Twitter', 'NOUN'), ('is', 'VERB'), ('an', 'DET'), ('online', 'NOUN'), ('news', 'NOUN'), ('and', 'CONJ'), ('social', 'ADJ'), ('networking', 'NOUN'), ('service', 'NOUN'), ('on', 'ADP'), ('which', 'DET'), ('users', 'NOUN'), ('post', 'NOUN'), ('and', 'CONJ'), ('interact', 'NOUN'), ('with', 'ADP'), ('messages', 'VERB'), ('known', 'VERB'), ('as', 'ADP'), ('tweets', 'NOUN'), ('.', '.')]\n",
      "[('Before', 'ADP'), ('entering', 'VERB'), ('politics', 'NOUN'), (',', '.'), ('Donald', 'NOUN'), ('Trump', 'NOUN'), ('was', 'VERB'), ('a', 'DET'), ('domineering', 'VERB'), ('businessman', 'NOUN'), ('and', 'CONJ'), ('a', 'DET'), ('television', 'NOUN'), ('personality', 'NOUN'), ('.', '.')]\n",
      "[('The', 'DET'), ('2018', 'NUM'), ('FIFA', 'NOUN'), ('World', 'NOUN'), ('Cup', 'NOUN'), ('is', 'VERB'), ('the', 'DET'), ('21st', 'NOUN'), ('FIFA', 'NOUN'), ('World', 'NOUN'), ('Cup', 'NOUN'), (',', '.'), ('an', 'DET'), ('international', 'ADJ'), ('football', 'NOUN'), ('tournament', 'NOUN'), ('contested', 'VERB'), ('once', 'ADV'), ('every', 'DET'), ('four', 'NUM'), ('years', 'NOUN'), ('.', '.')]\n",
      "[('This', 'DET'), ('is', 'VERB'), ('the', 'DET'), ('first', 'ADJ'), ('World', 'NOUN'), ('Cup', 'NOUN'), ('to', 'PRT'), ('be', 'VERB'), ('held', 'VERB'), ('in', 'ADP'), ('Eastern', 'NOUN'), ('Europe', 'NOUN'), ('and', 'CONJ'), ('the', 'DET'), ('11th', 'ADJ'), ('time', 'NOUN'), ('that', 'ADP'), ('it', 'PRON'), ('has', 'VERB'), ('been', 'VERB'), ('held', 'VERB'), ('in', 'ADP'), ('Europe', 'NOUN'), ('.', '.')]\n",
      "[('Show', 'NOUN'), ('me', 'PRON'), ('the', 'DET'), ('cheapest', 'ADJ'), ('round', 'NOUN'), ('trips', 'NOUN'), ('from', 'ADP'), ('Dallas', 'NOUN'), ('to', 'PRT'), ('Atlanta', 'NOUN')]\n",
      "[('I', 'PRON'), ('would', 'VERB'), ('like', 'ADP'), ('to', 'PRT'), ('see', 'VERB'), ('flights', 'NOUN'), ('from', 'ADP'), ('Denver', 'NOUN'), ('to', 'PRT'), ('Philadelphia', 'NOUN'), ('.', '.')]\n",
      "[('Show', 'NOUN'), ('me', 'PRON'), ('the', 'DET'), ('price', 'NOUN'), ('of', 'ADP'), ('the', 'DET'), ('flights', 'NOUN'), ('leaving', 'VERB'), ('Atlanta', 'NOUN'), ('at', 'ADP'), ('about', 'ADP'), ('3', 'NUM'), ('in', 'ADP'), ('the', 'DET'), ('afternoon', 'NOUN'), ('and', 'CONJ'), ('arriving', 'VERB'), ('in', 'ADP'), ('San', 'NOUN'), ('Francisco', 'NOUN'), ('.', '.')]\n",
      "[('NASA', 'NOUN'), ('invited', 'VERB'), ('social', 'ADJ'), ('media', 'NOUN'), ('users', 'NOUN'), ('to', 'PRT'), ('experience', 'NOUN'), ('the', 'DET'), ('launch', 'NOUN'), ('of', 'ADP'), ('ICESAT-2', 'NOUN'), ('Satellite', 'NOUN'), ('.', '.')]\n"
     ]
    }
   ],
   "source": [
    "#Let us print the test lines with the updated Viterbi algorithm\n",
    "for line in test_lines:\n",
    "    print(list(Viterbi_updated(word_tokenize(line))))"
   ]
  },
  {
   "cell_type": "markdown",
   "metadata": {},
   "source": [
    "The following sentences are corrected by the modified viterbi algorithm\n",
    "\n",
    "'Android is a mobile operating system developed by Google.'\n",
    "Here 'Android', 'Google' are unknown words and are incorrectly tagged in the initial viterbi algorithm. However with the updated Viterbi algorithm 'Android' and 'Google' are correctly classified as Nouns though they are unknown words\n",
    "\n",
    "'Android has been the best-selling OS worldwide on smartphones since 2011 and on tablets since 2013.'\n",
    "Here 'Android', 'Google',' worldwide' are unknown words and are incorrectly tagged in the initial viterbi algorithm. However with the updated Viterbi algorithm 'Android' and 'Google' are correctly classified as Nouns though they are unknown words.\n",
    "\n",
    "Also words like '2011' are incorrectly classified with the original algorithm. Because we used rule based tagger as backoff tagger and we have rule for indicating cardinal numbers '2011' is correctly tagged as 'NUM' in the updated viterbi algorithm\n",
    "\n",
    "'NASA invited social media users to experience the launch of ICESAT-2 Satellite.'\n",
    "Here 'NASA', 'ICESAT-2',' Satellite' are unknown words and are incorrectly tagged in the initial viterbi algorithm. However with the updated Viterbi algorithm 'Android' and 'Google' are correctly classified as Nouns though they are unknown words.\n",
    "\n",
    "Also words like '2011' are incorrectly classified with the original algorithm. Because we used rule based tagger as backoff tagger and we have rule for indicating cardinal numbers '2011' is correctly tagged as 'NUM' in the updated viterbi algorithm"
   ]
  },
  {
   "cell_type": "code",
   "execution_count": 50,
   "metadata": {},
   "outputs": [],
   "source": [
    "# Viterbi Heuristic\n",
    "def Viterbi_updated2(words, train_bag = train_tagged_words):\n",
    "    state = []\n",
    "    T = list(set([pair[1] for pair in train_bag]))\n",
    "    \n",
    "    for key, word in enumerate(words):\n",
    "        #initialise list of probability column for a given observation\n",
    "        p = [] \n",
    "        for tag in T:\n",
    "            if key == 0:\n",
    "                transition_p = tags_df.loc['.', tag]\n",
    "            else:\n",
    "                transition_p = tags_df.loc[state[-1], tag]\n",
    "                \n",
    "            # compute emission and state probabilities\n",
    "            emission_p = word_given_tag(words[key], tag)[0]/word_given_tag(words[key], tag)[1]\n",
    "            state_probability = emission_p * transition_p    \n",
    "            p.append(state_probability)\n",
    "            \n",
    "        pmax = max(p)\n",
    "       \n",
    "        #Check if state probability is zero\n",
    "        if(pmax<0.001):\n",
    "            #If state probability is zero i.e if the word is unknown if updates the tag based on the brill tagger\n",
    "            state_max = brill_tagger.tag([word])[0][1]\n",
    "        else:\n",
    "            # getting state for which probability is maximum\n",
    "            state_max = T[p.index(pmax)] \n",
    "        state.append(state_max)\n",
    "    return list(zip(words, state))"
   ]
  },
  {
   "cell_type": "code",
   "execution_count": 51,
   "metadata": {},
   "outputs": [
    {
     "name": "stdout",
     "output_type": "stream",
     "text": [
      "1239.6018633842468\n"
     ]
    }
   ],
   "source": [
    "# tagging the test sentences with the updated Viterbi algorithm\n",
    "start = time.time()\n",
    "updated_tagged_seq = Viterbi_updated2(test_tagged_words)\n",
    "end = time.time()\n",
    "difference = end-start\n",
    "#Print total time taken to train the algorithm\n",
    "print(difference)"
   ]
  },
  {
   "cell_type": "code",
   "execution_count": 52,
   "metadata": {},
   "outputs": [
    {
     "data": {
      "text/plain": [
       "0.9508744350560031"
      ]
     },
     "execution_count": 52,
     "metadata": {},
     "output_type": "execute_result"
    }
   ],
   "source": [
    "# Calculate the accuracy for the updated Viterbi algorithm\n",
    "check = [i for i, j in zip(updated_tagged_seq, test_run_base) if i == j] \n",
    "accuracy = len(check)/len(updated_tagged_seq)\n",
    "accuracy"
   ]
  }
 ],
 "metadata": {
  "kernelspec": {
   "display_name": "Python 3",
   "language": "python",
   "name": "python3"
  },
  "language_info": {
   "codemirror_mode": {
    "name": "ipython",
    "version": 3
   },
   "file_extension": ".py",
   "mimetype": "text/x-python",
   "name": "python",
   "nbconvert_exporter": "python",
   "pygments_lexer": "ipython3",
   "version": "3.7.6"
  }
 },
 "nbformat": 4,
 "nbformat_minor": 2
}
